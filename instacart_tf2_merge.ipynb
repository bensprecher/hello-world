{
  "nbformat": 4,
  "nbformat_minor": 0,
  "metadata": {
    "colab": {
      "name": "instacart-tf2-merge.ipynb",
      "version": "0.3.2",
      "provenance": [],
      "collapsed_sections": [],
      "toc_visible": true,
      "include_colab_link": true
    },
    "kernelspec": {
      "name": "python3",
      "display_name": "Python 3"
    },
    "accelerator": "GPU"
  },
  "cells": [
    {
      "cell_type": "markdown",
      "metadata": {
        "id": "view-in-github",
        "colab_type": "text"
      },
      "source": [
        "<a href=\"https://colab.research.google.com/github/bensprecher/hello-world/blob/master/instacart_tf2_merge.ipynb\" target=\"_parent\"><img src=\"https://colab.research.google.com/assets/colab-badge.svg\" alt=\"Open In Colab\"/></a>"
      ]
    },
    {
      "cell_type": "markdown",
      "metadata": {
        "id": "TwUceY-KfGXF",
        "colab_type": "text"
      },
      "source": [
        "## Import TensorFlow and other libraries"
      ]
    },
    {
      "cell_type": "code",
      "metadata": {
        "id": "J4s5YH4vfSA-",
        "colab_type": "code",
        "outputId": "18696ebf-a539-4fd7-dfcb-c45d094ad593",
        "colab": {
          "base_uri": "https://localhost:8080/",
          "height": 85
        }
      },
      "source": [
        "!pip install sklearn"
      ],
      "execution_count": 1,
      "outputs": [
        {
          "output_type": "stream",
          "text": [
            "Requirement already satisfied: sklearn in /usr/local/lib/python3.6/dist-packages (0.0)\n",
            "Requirement already satisfied: scikit-learn in /usr/local/lib/python3.6/dist-packages (from sklearn) (0.20.3)\n",
            "Requirement already satisfied: scipy>=0.13.3 in /usr/local/lib/python3.6/dist-packages (from scikit-learn->sklearn) (1.2.1)\n",
            "Requirement already satisfied: numpy>=1.8.2 in /usr/local/lib/python3.6/dist-packages (from scikit-learn->sklearn) (1.16.3)\n"
          ],
          "name": "stdout"
        }
      ]
    },
    {
      "cell_type": "code",
      "metadata": {
        "id": "BG4zIgoHfX0t",
        "colab_type": "code",
        "outputId": "c4dc9687-5497-4cd1-ede5-f6ea41c3ba35",
        "colab": {
          "base_uri": "https://localhost:8080/",
          "height": 581
        }
      },
      "source": [
        "from __future__ import absolute_import, division, print_function, unicode_literals\n",
        "\n",
        "import numpy as np\n",
        "import pandas as pd\n",
        "\n",
        "!pip install tensorflow==2.0.0-alpha0\n",
        "import tensorflow as tf\n",
        "\n",
        "# Load the TensorBoard notebook extension\n",
        "%load_ext tensorboard.notebook\n",
        "import datetime\n",
        "\n",
        "from tensorflow import feature_column\n",
        "from tensorflow.keras import layers\n",
        "from sklearn.model_selection import train_test_split"
      ],
      "execution_count": 2,
      "outputs": [
        {
          "output_type": "stream",
          "text": [
            "Collecting tensorflow==2.0.0-alpha0\n",
            "\u001b[?25l  Downloading https://files.pythonhosted.org/packages/29/39/f99185d39131b8333afcfe1dcdb0629c2ffc4ecfb0e4c14ca210d620e56c/tensorflow-2.0.0a0-cp36-cp36m-manylinux1_x86_64.whl (79.9MB)\n",
            "\u001b[K     |████████████████████████████████| 79.9MB 526kB/s \n",
            "\u001b[?25hCollecting google-pasta>=0.1.2 (from tensorflow==2.0.0-alpha0)\n",
            "\u001b[?25l  Downloading https://files.pythonhosted.org/packages/f9/68/a14620bfb042691f532dcde8576ff82ee82e4c003cdc0a3dbee5f289cee6/google_pasta-0.1.6-py3-none-any.whl (51kB)\n",
            "\u001b[K     |████████████████████████████████| 61kB 24.3MB/s \n",
            "\u001b[?25hRequirement already satisfied: grpcio>=1.8.6 in /usr/local/lib/python3.6/dist-packages (from tensorflow==2.0.0-alpha0) (1.15.0)\n",
            "Requirement already satisfied: six>=1.10.0 in /usr/local/lib/python3.6/dist-packages (from tensorflow==2.0.0-alpha0) (1.12.0)\n",
            "Requirement already satisfied: gast>=0.2.0 in /usr/local/lib/python3.6/dist-packages (from tensorflow==2.0.0-alpha0) (0.2.2)\n",
            "Requirement already satisfied: termcolor>=1.1.0 in /usr/local/lib/python3.6/dist-packages (from tensorflow==2.0.0-alpha0) (1.1.0)\n",
            "Requirement already satisfied: wheel>=0.26 in /usr/local/lib/python3.6/dist-packages (from tensorflow==2.0.0-alpha0) (0.33.1)\n",
            "Collecting tb-nightly<1.14.0a20190302,>=1.14.0a20190301 (from tensorflow==2.0.0-alpha0)\n",
            "\u001b[?25l  Downloading https://files.pythonhosted.org/packages/a9/51/aa1d756644bf4624c03844115e4ac4058eff77acd786b26315f051a4b195/tb_nightly-1.14.0a20190301-py3-none-any.whl (3.0MB)\n",
            "\u001b[K     |████████████████████████████████| 3.0MB 36.0MB/s \n",
            "\u001b[?25hRequirement already satisfied: absl-py>=0.7.0 in /usr/local/lib/python3.6/dist-packages (from tensorflow==2.0.0-alpha0) (0.7.1)\n",
            "Requirement already satisfied: astor>=0.6.0 in /usr/local/lib/python3.6/dist-packages (from tensorflow==2.0.0-alpha0) (0.7.1)\n",
            "Requirement already satisfied: keras-preprocessing>=1.0.5 in /usr/local/lib/python3.6/dist-packages (from tensorflow==2.0.0-alpha0) (1.0.9)\n",
            "Requirement already satisfied: protobuf>=3.6.1 in /usr/local/lib/python3.6/dist-packages (from tensorflow==2.0.0-alpha0) (3.7.1)\n",
            "Requirement already satisfied: keras-applications>=1.0.6 in /usr/local/lib/python3.6/dist-packages (from tensorflow==2.0.0-alpha0) (1.0.7)\n",
            "Collecting tf-estimator-nightly<1.14.0.dev2019030116,>=1.14.0.dev2019030115 (from tensorflow==2.0.0-alpha0)\n",
            "\u001b[?25l  Downloading https://files.pythonhosted.org/packages/13/82/f16063b4eed210dc2ab057930ac1da4fbe1e91b7b051a6c8370b401e6ae7/tf_estimator_nightly-1.14.0.dev2019030115-py2.py3-none-any.whl (411kB)\n",
            "\u001b[K     |████████████████████████████████| 419kB 44.0MB/s \n",
            "\u001b[?25hRequirement already satisfied: numpy<2.0,>=1.14.5 in /usr/local/lib/python3.6/dist-packages (from tensorflow==2.0.0-alpha0) (1.16.3)\n",
            "Requirement already satisfied: markdown>=2.6.8 in /usr/local/lib/python3.6/dist-packages (from tb-nightly<1.14.0a20190302,>=1.14.0a20190301->tensorflow==2.0.0-alpha0) (3.1)\n",
            "Requirement already satisfied: werkzeug>=0.11.15 in /usr/local/lib/python3.6/dist-packages (from tb-nightly<1.14.0a20190302,>=1.14.0a20190301->tensorflow==2.0.0-alpha0) (0.15.2)\n",
            "Requirement already satisfied: setuptools in /usr/local/lib/python3.6/dist-packages (from protobuf>=3.6.1->tensorflow==2.0.0-alpha0) (41.0.1)\n",
            "Requirement already satisfied: h5py in /usr/local/lib/python3.6/dist-packages (from keras-applications>=1.0.6->tensorflow==2.0.0-alpha0) (2.8.0)\n",
            "Installing collected packages: google-pasta, tb-nightly, tf-estimator-nightly, tensorflow\n",
            "  Found existing installation: tensorflow 1.13.1\n",
            "    Uninstalling tensorflow-1.13.1:\n",
            "      Successfully uninstalled tensorflow-1.13.1\n",
            "Successfully installed google-pasta-0.1.6 tb-nightly-1.14.0a20190301 tensorflow-2.0.0a0 tf-estimator-nightly-1.14.0.dev2019030115\n"
          ],
          "name": "stdout"
        }
      ]
    },
    {
      "cell_type": "code",
      "metadata": {
        "id": "Xm3RcICPQ6aP",
        "colab_type": "code",
        "colab": {}
      },
      "source": [
        "# Clear any logs from previous runs for Tensorboard\n",
        "!rm -rf ./logs/ \n",
        "\n",
        "# setup the log dir for Keras Model.fit() and the callback function\n",
        "log_dir=\"logs/fit/\" + datetime.datetime.now().strftime(\"%Y%m%d-%H%M%S\")\n",
        "tensorboard_callback = tf.keras.callbacks.TensorBoard(log_dir=log_dir, histogram_freq=1)\n"
      ],
      "execution_count": 0,
      "outputs": []
    },
    {
      "cell_type": "markdown",
      "metadata": {
        "id": "NBTgDkyv5tl4",
        "colab_type": "text"
      },
      "source": [
        "##Download the data"
      ]
    },
    {
      "cell_type": "code",
      "metadata": {
        "id": "MIQ7E2Wl5tLx",
        "colab_type": "code",
        "outputId": "477d50c3-4489-4ef5-e4d5-a0b0e4c78d22",
        "colab": {
          "base_uri": "https://localhost:8080/",
          "height": 289
        }
      },
      "source": [
        "# Note - I'll be asked to authenticate into Google Drive and copy a code, then\n",
        "# enter it below\n",
        "from google.colab import auth\n",
        "auth.authenticate_user()\n",
        "\n",
        "# make data directory if it doesn't exist\n",
        "import os\n",
        "if not os.path.exists('./data'):\n",
        "    print(\"Data dir didn't exist, creating it now...\\n\")\n",
        "    os.makedirs('./data')\n",
        "\n",
        "# Download the file(s) from my Google Cloud Storage bucket (-m flag means \"in \n",
        "# parallel\"). I previously downloaded the Instacart CSV files here.\n",
        "# Moving them to a new directory, ./predict_next_purchase/data/\n",
        "!gsutil -m cp gs://kaggle-holding-area/*.csv ./data/\n",
        "  \n",
        "# Print the result to make sure the transfer worked.\n",
        "!ls ./data/*.csv\n",
        "print(\"done!\")"
      ],
      "execution_count": 4,
      "outputs": [
        {
          "output_type": "stream",
          "text": [
            "Data dir didn't exist, creating it now...\n",
            "\n",
            "Copying gs://kaggle-holding-area/aisles.csv...\n",
            "Copying gs://kaggle-holding-area/departments.csv...\n",
            "Copying gs://kaggle-holding-area/sample_submission.csv...\n",
            "Copying gs://kaggle-holding-area/order_products__train.csv...\n",
            "Copying gs://kaggle-holding-area/orders.csv...\n",
            "Copying gs://kaggle-holding-area/products.csv...\n",
            "Copying gs://kaggle-holding-area/order_products__prior.csv...\n",
            "/ [7/7 files][681.7 MiB/681.7 MiB] 100% Done                                    \n",
            "Operation completed over 7 objects/681.7 MiB.                                    \n",
            "./data/aisles.csv\t\t  ./data/orders.csv\n",
            "./data/departments.csv\t\t  ./data/products.csv\n",
            "./data/order_products__prior.csv  ./data/sample_submission.csv\n",
            "./data/order_products__train.csv\n",
            "done!\n"
          ],
          "name": "stdout"
        }
      ]
    },
    {
      "cell_type": "markdown",
      "metadata": {
        "id": "pkQ-nVJdjAOU",
        "colab_type": "text"
      },
      "source": [
        "##Use Pandas to read and manipulate the CSV files as dataframes"
      ]
    },
    {
      "cell_type": "code",
      "metadata": {
        "id": "9rJ_sfvBP74q",
        "colab_type": "code",
        "outputId": "03df0e43-591d-4ada-8ae3-a1e2291ab909",
        "colab": {
          "base_uri": "https://localhost:8080/",
          "height": 153
        }
      },
      "source": [
        "# Data Exploration, copied from here: https://www.kaggle.com/sudalairajkumar/simple-exploration-notebook-instacart/notebook\n",
        "\n",
        "import numpy as np # linear algebra\n",
        "import pandas as pd # data processing, CSV file I/O (e.g. pd.read_csv)\n",
        "import matplotlib.pyplot as plt\n",
        "import seaborn as sns\n",
        "color = sns.color_palette()\n",
        "\n",
        "%matplotlib inline\n",
        "\n",
        "pd.options.mode.chained_assignment = None  # default='warn'\n",
        "\n",
        "\n",
        "from subprocess import check_output\n",
        "print(check_output([\"ls\", \"data\"]).decode(\"utf8\"))\n"
      ],
      "execution_count": 5,
      "outputs": [
        {
          "output_type": "stream",
          "text": [
            "aisles.csv\n",
            "departments.csv\n",
            "order_products__prior.csv\n",
            "order_products__train.csv\n",
            "orders.csv\n",
            "products.csv\n",
            "sample_submission.csv\n",
            "\n"
          ],
          "name": "stdout"
        }
      ]
    },
    {
      "cell_type": "markdown",
      "metadata": {
        "id": "VV1lwHgvafgJ",
        "colab_type": "text"
      },
      "source": [
        "Before we dive deep into the exploratory analysis, let us know a little more about the files given. To understand it better, let us first read all the files as dataframe objects and then look at the top few rows.\n",
        "\n",
        "(Check out Pandas DataFrames here: https://pandas.pydata.org/pandas-docs/stable/generated/pandas.DataFrame.html)"
      ]
    },
    {
      "cell_type": "code",
      "metadata": {
        "id": "ooj4vADBahL5",
        "colab_type": "code",
        "colab": {}
      },
      "source": [
        "order_products_train_df = pd.read_csv(\"data/order_products__train.csv\")\n",
        "order_products_prior_df = pd.read_csv(\"data/order_products__prior.csv\")\n",
        "orders_df = pd.read_csv(\"data/orders.csv\")\n",
        "products_df = pd.read_csv(\"data/products.csv\")\n",
        "aisles_df = pd.read_csv(\"data/aisles.csv\")\n",
        "departments_df = pd.read_csv(\"data/departments.csv\")"
      ],
      "execution_count": 0,
      "outputs": []
    },
    {
      "cell_type": "markdown",
      "metadata": {
        "id": "Kpn_WrA_wkFL",
        "colab_type": "text"
      },
      "source": [
        "How big are each of these files? Let's take a look at some data, and describe them."
      ]
    },
    {
      "cell_type": "code",
      "metadata": {
        "id": "sK1ziwu8aljg",
        "colab_type": "code",
        "outputId": "ca531386-0606-4539-ced6-fec3c968eac0",
        "colab": {
          "base_uri": "https://localhost:8080/",
          "height": 2921
        }
      },
      "source": [
        "print(\"order_products_train_df:\", order_products_train_df.shape)\n",
        "display(order_products_train_df.head())\n",
        "display(order_products_train_df.describe())\n",
        "\n",
        "print(\"order_products_prior_df:\", order_products_prior_df.shape)\n",
        "display(order_products_prior_df.head())\n",
        "display(order_products_prior_df.describe())\n",
        "\n",
        "print(\"orders_df:\", orders_df.shape)\n",
        "display(orders_df.head())\n",
        "display(orders_df.describe())\n",
        "\n",
        "print(\"products_df:\", products_df.shape)\n",
        "display(products_df.head())\n",
        "display(products_df.describe())\n",
        "\n",
        "print(\"aisles_df:\", aisles_df.shape)\n",
        "display(aisles_df.head())\n",
        "display(aisles_df.describe())\n",
        "\n",
        "print(\"departments_df:\", departments_df.shape)\n",
        "display(departments_df.head())\n",
        "display(departments_df.describe())\n",
        "\n"
      ],
      "execution_count": 7,
      "outputs": [
        {
          "output_type": "stream",
          "text": [
            "order_products_train_df: (1384617, 4)\n"
          ],
          "name": "stdout"
        },
        {
          "output_type": "display_data",
          "data": {
            "text/html": [
              "<div>\n",
              "<style scoped>\n",
              "    .dataframe tbody tr th:only-of-type {\n",
              "        vertical-align: middle;\n",
              "    }\n",
              "\n",
              "    .dataframe tbody tr th {\n",
              "        vertical-align: top;\n",
              "    }\n",
              "\n",
              "    .dataframe thead th {\n",
              "        text-align: right;\n",
              "    }\n",
              "</style>\n",
              "<table border=\"1\" class=\"dataframe\">\n",
              "  <thead>\n",
              "    <tr style=\"text-align: right;\">\n",
              "      <th></th>\n",
              "      <th>order_id</th>\n",
              "      <th>product_id</th>\n",
              "      <th>add_to_cart_order</th>\n",
              "      <th>reordered</th>\n",
              "    </tr>\n",
              "  </thead>\n",
              "  <tbody>\n",
              "    <tr>\n",
              "      <th>0</th>\n",
              "      <td>1</td>\n",
              "      <td>49302</td>\n",
              "      <td>1</td>\n",
              "      <td>1</td>\n",
              "    </tr>\n",
              "    <tr>\n",
              "      <th>1</th>\n",
              "      <td>1</td>\n",
              "      <td>11109</td>\n",
              "      <td>2</td>\n",
              "      <td>1</td>\n",
              "    </tr>\n",
              "    <tr>\n",
              "      <th>2</th>\n",
              "      <td>1</td>\n",
              "      <td>10246</td>\n",
              "      <td>3</td>\n",
              "      <td>0</td>\n",
              "    </tr>\n",
              "    <tr>\n",
              "      <th>3</th>\n",
              "      <td>1</td>\n",
              "      <td>49683</td>\n",
              "      <td>4</td>\n",
              "      <td>0</td>\n",
              "    </tr>\n",
              "    <tr>\n",
              "      <th>4</th>\n",
              "      <td>1</td>\n",
              "      <td>43633</td>\n",
              "      <td>5</td>\n",
              "      <td>1</td>\n",
              "    </tr>\n",
              "  </tbody>\n",
              "</table>\n",
              "</div>"
            ],
            "text/plain": [
              "   order_id  product_id  add_to_cart_order  reordered\n",
              "0         1       49302                  1          1\n",
              "1         1       11109                  2          1\n",
              "2         1       10246                  3          0\n",
              "3         1       49683                  4          0\n",
              "4         1       43633                  5          1"
            ]
          },
          "metadata": {
            "tags": []
          }
        },
        {
          "output_type": "display_data",
          "data": {
            "text/html": [
              "<div>\n",
              "<style scoped>\n",
              "    .dataframe tbody tr th:only-of-type {\n",
              "        vertical-align: middle;\n",
              "    }\n",
              "\n",
              "    .dataframe tbody tr th {\n",
              "        vertical-align: top;\n",
              "    }\n",
              "\n",
              "    .dataframe thead th {\n",
              "        text-align: right;\n",
              "    }\n",
              "</style>\n",
              "<table border=\"1\" class=\"dataframe\">\n",
              "  <thead>\n",
              "    <tr style=\"text-align: right;\">\n",
              "      <th></th>\n",
              "      <th>order_id</th>\n",
              "      <th>product_id</th>\n",
              "      <th>add_to_cart_order</th>\n",
              "      <th>reordered</th>\n",
              "    </tr>\n",
              "  </thead>\n",
              "  <tbody>\n",
              "    <tr>\n",
              "      <th>count</th>\n",
              "      <td>1.384617e+06</td>\n",
              "      <td>1.384617e+06</td>\n",
              "      <td>1.384617e+06</td>\n",
              "      <td>1.384617e+06</td>\n",
              "    </tr>\n",
              "    <tr>\n",
              "      <th>mean</th>\n",
              "      <td>1.706298e+06</td>\n",
              "      <td>2.555624e+04</td>\n",
              "      <td>8.758044e+00</td>\n",
              "      <td>5.985944e-01</td>\n",
              "    </tr>\n",
              "    <tr>\n",
              "      <th>std</th>\n",
              "      <td>9.897326e+05</td>\n",
              "      <td>1.412127e+04</td>\n",
              "      <td>7.423936e+00</td>\n",
              "      <td>4.901829e-01</td>\n",
              "    </tr>\n",
              "    <tr>\n",
              "      <th>min</th>\n",
              "      <td>1.000000e+00</td>\n",
              "      <td>1.000000e+00</td>\n",
              "      <td>1.000000e+00</td>\n",
              "      <td>0.000000e+00</td>\n",
              "    </tr>\n",
              "    <tr>\n",
              "      <th>25%</th>\n",
              "      <td>8.433700e+05</td>\n",
              "      <td>1.338000e+04</td>\n",
              "      <td>3.000000e+00</td>\n",
              "      <td>0.000000e+00</td>\n",
              "    </tr>\n",
              "    <tr>\n",
              "      <th>50%</th>\n",
              "      <td>1.701880e+06</td>\n",
              "      <td>2.529800e+04</td>\n",
              "      <td>7.000000e+00</td>\n",
              "      <td>1.000000e+00</td>\n",
              "    </tr>\n",
              "    <tr>\n",
              "      <th>75%</th>\n",
              "      <td>2.568023e+06</td>\n",
              "      <td>3.794000e+04</td>\n",
              "      <td>1.200000e+01</td>\n",
              "      <td>1.000000e+00</td>\n",
              "    </tr>\n",
              "    <tr>\n",
              "      <th>max</th>\n",
              "      <td>3.421070e+06</td>\n",
              "      <td>4.968800e+04</td>\n",
              "      <td>8.000000e+01</td>\n",
              "      <td>1.000000e+00</td>\n",
              "    </tr>\n",
              "  </tbody>\n",
              "</table>\n",
              "</div>"
            ],
            "text/plain": [
              "           order_id    product_id  add_to_cart_order     reordered\n",
              "count  1.384617e+06  1.384617e+06       1.384617e+06  1.384617e+06\n",
              "mean   1.706298e+06  2.555624e+04       8.758044e+00  5.985944e-01\n",
              "std    9.897326e+05  1.412127e+04       7.423936e+00  4.901829e-01\n",
              "min    1.000000e+00  1.000000e+00       1.000000e+00  0.000000e+00\n",
              "25%    8.433700e+05  1.338000e+04       3.000000e+00  0.000000e+00\n",
              "50%    1.701880e+06  2.529800e+04       7.000000e+00  1.000000e+00\n",
              "75%    2.568023e+06  3.794000e+04       1.200000e+01  1.000000e+00\n",
              "max    3.421070e+06  4.968800e+04       8.000000e+01  1.000000e+00"
            ]
          },
          "metadata": {
            "tags": []
          }
        },
        {
          "output_type": "stream",
          "text": [
            "order_products_prior_df: (32434489, 4)\n"
          ],
          "name": "stdout"
        },
        {
          "output_type": "display_data",
          "data": {
            "text/html": [
              "<div>\n",
              "<style scoped>\n",
              "    .dataframe tbody tr th:only-of-type {\n",
              "        vertical-align: middle;\n",
              "    }\n",
              "\n",
              "    .dataframe tbody tr th {\n",
              "        vertical-align: top;\n",
              "    }\n",
              "\n",
              "    .dataframe thead th {\n",
              "        text-align: right;\n",
              "    }\n",
              "</style>\n",
              "<table border=\"1\" class=\"dataframe\">\n",
              "  <thead>\n",
              "    <tr style=\"text-align: right;\">\n",
              "      <th></th>\n",
              "      <th>order_id</th>\n",
              "      <th>product_id</th>\n",
              "      <th>add_to_cart_order</th>\n",
              "      <th>reordered</th>\n",
              "    </tr>\n",
              "  </thead>\n",
              "  <tbody>\n",
              "    <tr>\n",
              "      <th>0</th>\n",
              "      <td>2</td>\n",
              "      <td>33120</td>\n",
              "      <td>1</td>\n",
              "      <td>1</td>\n",
              "    </tr>\n",
              "    <tr>\n",
              "      <th>1</th>\n",
              "      <td>2</td>\n",
              "      <td>28985</td>\n",
              "      <td>2</td>\n",
              "      <td>1</td>\n",
              "    </tr>\n",
              "    <tr>\n",
              "      <th>2</th>\n",
              "      <td>2</td>\n",
              "      <td>9327</td>\n",
              "      <td>3</td>\n",
              "      <td>0</td>\n",
              "    </tr>\n",
              "    <tr>\n",
              "      <th>3</th>\n",
              "      <td>2</td>\n",
              "      <td>45918</td>\n",
              "      <td>4</td>\n",
              "      <td>1</td>\n",
              "    </tr>\n",
              "    <tr>\n",
              "      <th>4</th>\n",
              "      <td>2</td>\n",
              "      <td>30035</td>\n",
              "      <td>5</td>\n",
              "      <td>0</td>\n",
              "    </tr>\n",
              "  </tbody>\n",
              "</table>\n",
              "</div>"
            ],
            "text/plain": [
              "   order_id  product_id  add_to_cart_order  reordered\n",
              "0         2       33120                  1          1\n",
              "1         2       28985                  2          1\n",
              "2         2        9327                  3          0\n",
              "3         2       45918                  4          1\n",
              "4         2       30035                  5          0"
            ]
          },
          "metadata": {
            "tags": []
          }
        },
        {
          "output_type": "display_data",
          "data": {
            "text/html": [
              "<div>\n",
              "<style scoped>\n",
              "    .dataframe tbody tr th:only-of-type {\n",
              "        vertical-align: middle;\n",
              "    }\n",
              "\n",
              "    .dataframe tbody tr th {\n",
              "        vertical-align: top;\n",
              "    }\n",
              "\n",
              "    .dataframe thead th {\n",
              "        text-align: right;\n",
              "    }\n",
              "</style>\n",
              "<table border=\"1\" class=\"dataframe\">\n",
              "  <thead>\n",
              "    <tr style=\"text-align: right;\">\n",
              "      <th></th>\n",
              "      <th>order_id</th>\n",
              "      <th>product_id</th>\n",
              "      <th>add_to_cart_order</th>\n",
              "      <th>reordered</th>\n",
              "    </tr>\n",
              "  </thead>\n",
              "  <tbody>\n",
              "    <tr>\n",
              "      <th>count</th>\n",
              "      <td>3.243449e+07</td>\n",
              "      <td>3.243449e+07</td>\n",
              "      <td>3.243449e+07</td>\n",
              "      <td>3.243449e+07</td>\n",
              "    </tr>\n",
              "    <tr>\n",
              "      <th>mean</th>\n",
              "      <td>1.710749e+06</td>\n",
              "      <td>2.557634e+04</td>\n",
              "      <td>8.351076e+00</td>\n",
              "      <td>5.896975e-01</td>\n",
              "    </tr>\n",
              "    <tr>\n",
              "      <th>std</th>\n",
              "      <td>9.873007e+05</td>\n",
              "      <td>1.409669e+04</td>\n",
              "      <td>7.126671e+00</td>\n",
              "      <td>4.918886e-01</td>\n",
              "    </tr>\n",
              "    <tr>\n",
              "      <th>min</th>\n",
              "      <td>2.000000e+00</td>\n",
              "      <td>1.000000e+00</td>\n",
              "      <td>1.000000e+00</td>\n",
              "      <td>0.000000e+00</td>\n",
              "    </tr>\n",
              "    <tr>\n",
              "      <th>25%</th>\n",
              "      <td>8.559430e+05</td>\n",
              "      <td>1.353000e+04</td>\n",
              "      <td>3.000000e+00</td>\n",
              "      <td>0.000000e+00</td>\n",
              "    </tr>\n",
              "    <tr>\n",
              "      <th>50%</th>\n",
              "      <td>1.711048e+06</td>\n",
              "      <td>2.525600e+04</td>\n",
              "      <td>6.000000e+00</td>\n",
              "      <td>1.000000e+00</td>\n",
              "    </tr>\n",
              "    <tr>\n",
              "      <th>75%</th>\n",
              "      <td>2.565514e+06</td>\n",
              "      <td>3.793500e+04</td>\n",
              "      <td>1.100000e+01</td>\n",
              "      <td>1.000000e+00</td>\n",
              "    </tr>\n",
              "    <tr>\n",
              "      <th>max</th>\n",
              "      <td>3.421083e+06</td>\n",
              "      <td>4.968800e+04</td>\n",
              "      <td>1.450000e+02</td>\n",
              "      <td>1.000000e+00</td>\n",
              "    </tr>\n",
              "  </tbody>\n",
              "</table>\n",
              "</div>"
            ],
            "text/plain": [
              "           order_id    product_id  add_to_cart_order     reordered\n",
              "count  3.243449e+07  3.243449e+07       3.243449e+07  3.243449e+07\n",
              "mean   1.710749e+06  2.557634e+04       8.351076e+00  5.896975e-01\n",
              "std    9.873007e+05  1.409669e+04       7.126671e+00  4.918886e-01\n",
              "min    2.000000e+00  1.000000e+00       1.000000e+00  0.000000e+00\n",
              "25%    8.559430e+05  1.353000e+04       3.000000e+00  0.000000e+00\n",
              "50%    1.711048e+06  2.525600e+04       6.000000e+00  1.000000e+00\n",
              "75%    2.565514e+06  3.793500e+04       1.100000e+01  1.000000e+00\n",
              "max    3.421083e+06  4.968800e+04       1.450000e+02  1.000000e+00"
            ]
          },
          "metadata": {
            "tags": []
          }
        },
        {
          "output_type": "stream",
          "text": [
            "orders_df: (3421083, 7)\n"
          ],
          "name": "stdout"
        },
        {
          "output_type": "display_data",
          "data": {
            "text/html": [
              "<div>\n",
              "<style scoped>\n",
              "    .dataframe tbody tr th:only-of-type {\n",
              "        vertical-align: middle;\n",
              "    }\n",
              "\n",
              "    .dataframe tbody tr th {\n",
              "        vertical-align: top;\n",
              "    }\n",
              "\n",
              "    .dataframe thead th {\n",
              "        text-align: right;\n",
              "    }\n",
              "</style>\n",
              "<table border=\"1\" class=\"dataframe\">\n",
              "  <thead>\n",
              "    <tr style=\"text-align: right;\">\n",
              "      <th></th>\n",
              "      <th>order_id</th>\n",
              "      <th>user_id</th>\n",
              "      <th>eval_set</th>\n",
              "      <th>order_number</th>\n",
              "      <th>order_dow</th>\n",
              "      <th>order_hour_of_day</th>\n",
              "      <th>days_since_prior_order</th>\n",
              "    </tr>\n",
              "  </thead>\n",
              "  <tbody>\n",
              "    <tr>\n",
              "      <th>0</th>\n",
              "      <td>2539329</td>\n",
              "      <td>1</td>\n",
              "      <td>prior</td>\n",
              "      <td>1</td>\n",
              "      <td>2</td>\n",
              "      <td>8</td>\n",
              "      <td>NaN</td>\n",
              "    </tr>\n",
              "    <tr>\n",
              "      <th>1</th>\n",
              "      <td>2398795</td>\n",
              "      <td>1</td>\n",
              "      <td>prior</td>\n",
              "      <td>2</td>\n",
              "      <td>3</td>\n",
              "      <td>7</td>\n",
              "      <td>15.0</td>\n",
              "    </tr>\n",
              "    <tr>\n",
              "      <th>2</th>\n",
              "      <td>473747</td>\n",
              "      <td>1</td>\n",
              "      <td>prior</td>\n",
              "      <td>3</td>\n",
              "      <td>3</td>\n",
              "      <td>12</td>\n",
              "      <td>21.0</td>\n",
              "    </tr>\n",
              "    <tr>\n",
              "      <th>3</th>\n",
              "      <td>2254736</td>\n",
              "      <td>1</td>\n",
              "      <td>prior</td>\n",
              "      <td>4</td>\n",
              "      <td>4</td>\n",
              "      <td>7</td>\n",
              "      <td>29.0</td>\n",
              "    </tr>\n",
              "    <tr>\n",
              "      <th>4</th>\n",
              "      <td>431534</td>\n",
              "      <td>1</td>\n",
              "      <td>prior</td>\n",
              "      <td>5</td>\n",
              "      <td>4</td>\n",
              "      <td>15</td>\n",
              "      <td>28.0</td>\n",
              "    </tr>\n",
              "  </tbody>\n",
              "</table>\n",
              "</div>"
            ],
            "text/plain": [
              "   order_id  user_id eval_set  order_number  order_dow  order_hour_of_day  \\\n",
              "0   2539329        1    prior             1          2                  8   \n",
              "1   2398795        1    prior             2          3                  7   \n",
              "2    473747        1    prior             3          3                 12   \n",
              "3   2254736        1    prior             4          4                  7   \n",
              "4    431534        1    prior             5          4                 15   \n",
              "\n",
              "   days_since_prior_order  \n",
              "0                     NaN  \n",
              "1                    15.0  \n",
              "2                    21.0  \n",
              "3                    29.0  \n",
              "4                    28.0  "
            ]
          },
          "metadata": {
            "tags": []
          }
        },
        {
          "output_type": "display_data",
          "data": {
            "text/html": [
              "<div>\n",
              "<style scoped>\n",
              "    .dataframe tbody tr th:only-of-type {\n",
              "        vertical-align: middle;\n",
              "    }\n",
              "\n",
              "    .dataframe tbody tr th {\n",
              "        vertical-align: top;\n",
              "    }\n",
              "\n",
              "    .dataframe thead th {\n",
              "        text-align: right;\n",
              "    }\n",
              "</style>\n",
              "<table border=\"1\" class=\"dataframe\">\n",
              "  <thead>\n",
              "    <tr style=\"text-align: right;\">\n",
              "      <th></th>\n",
              "      <th>order_id</th>\n",
              "      <th>user_id</th>\n",
              "      <th>order_number</th>\n",
              "      <th>order_dow</th>\n",
              "      <th>order_hour_of_day</th>\n",
              "      <th>days_since_prior_order</th>\n",
              "    </tr>\n",
              "  </thead>\n",
              "  <tbody>\n",
              "    <tr>\n",
              "      <th>count</th>\n",
              "      <td>3.421083e+06</td>\n",
              "      <td>3.421083e+06</td>\n",
              "      <td>3.421083e+06</td>\n",
              "      <td>3.421083e+06</td>\n",
              "      <td>3.421083e+06</td>\n",
              "      <td>3.214874e+06</td>\n",
              "    </tr>\n",
              "    <tr>\n",
              "      <th>mean</th>\n",
              "      <td>1.710542e+06</td>\n",
              "      <td>1.029782e+05</td>\n",
              "      <td>1.715486e+01</td>\n",
              "      <td>2.776219e+00</td>\n",
              "      <td>1.345202e+01</td>\n",
              "      <td>1.111484e+01</td>\n",
              "    </tr>\n",
              "    <tr>\n",
              "      <th>std</th>\n",
              "      <td>9.875817e+05</td>\n",
              "      <td>5.953372e+04</td>\n",
              "      <td>1.773316e+01</td>\n",
              "      <td>2.046829e+00</td>\n",
              "      <td>4.226088e+00</td>\n",
              "      <td>9.206737e+00</td>\n",
              "    </tr>\n",
              "    <tr>\n",
              "      <th>min</th>\n",
              "      <td>1.000000e+00</td>\n",
              "      <td>1.000000e+00</td>\n",
              "      <td>1.000000e+00</td>\n",
              "      <td>0.000000e+00</td>\n",
              "      <td>0.000000e+00</td>\n",
              "      <td>0.000000e+00</td>\n",
              "    </tr>\n",
              "    <tr>\n",
              "      <th>25%</th>\n",
              "      <td>8.552715e+05</td>\n",
              "      <td>5.139400e+04</td>\n",
              "      <td>5.000000e+00</td>\n",
              "      <td>1.000000e+00</td>\n",
              "      <td>1.000000e+01</td>\n",
              "      <td>4.000000e+00</td>\n",
              "    </tr>\n",
              "    <tr>\n",
              "      <th>50%</th>\n",
              "      <td>1.710542e+06</td>\n",
              "      <td>1.026890e+05</td>\n",
              "      <td>1.100000e+01</td>\n",
              "      <td>3.000000e+00</td>\n",
              "      <td>1.300000e+01</td>\n",
              "      <td>7.000000e+00</td>\n",
              "    </tr>\n",
              "    <tr>\n",
              "      <th>75%</th>\n",
              "      <td>2.565812e+06</td>\n",
              "      <td>1.543850e+05</td>\n",
              "      <td>2.300000e+01</td>\n",
              "      <td>5.000000e+00</td>\n",
              "      <td>1.600000e+01</td>\n",
              "      <td>1.500000e+01</td>\n",
              "    </tr>\n",
              "    <tr>\n",
              "      <th>max</th>\n",
              "      <td>3.421083e+06</td>\n",
              "      <td>2.062090e+05</td>\n",
              "      <td>1.000000e+02</td>\n",
              "      <td>6.000000e+00</td>\n",
              "      <td>2.300000e+01</td>\n",
              "      <td>3.000000e+01</td>\n",
              "    </tr>\n",
              "  </tbody>\n",
              "</table>\n",
              "</div>"
            ],
            "text/plain": [
              "           order_id       user_id  order_number     order_dow  \\\n",
              "count  3.421083e+06  3.421083e+06  3.421083e+06  3.421083e+06   \n",
              "mean   1.710542e+06  1.029782e+05  1.715486e+01  2.776219e+00   \n",
              "std    9.875817e+05  5.953372e+04  1.773316e+01  2.046829e+00   \n",
              "min    1.000000e+00  1.000000e+00  1.000000e+00  0.000000e+00   \n",
              "25%    8.552715e+05  5.139400e+04  5.000000e+00  1.000000e+00   \n",
              "50%    1.710542e+06  1.026890e+05  1.100000e+01  3.000000e+00   \n",
              "75%    2.565812e+06  1.543850e+05  2.300000e+01  5.000000e+00   \n",
              "max    3.421083e+06  2.062090e+05  1.000000e+02  6.000000e+00   \n",
              "\n",
              "       order_hour_of_day  days_since_prior_order  \n",
              "count       3.421083e+06            3.214874e+06  \n",
              "mean        1.345202e+01            1.111484e+01  \n",
              "std         4.226088e+00            9.206737e+00  \n",
              "min         0.000000e+00            0.000000e+00  \n",
              "25%         1.000000e+01            4.000000e+00  \n",
              "50%         1.300000e+01            7.000000e+00  \n",
              "75%         1.600000e+01            1.500000e+01  \n",
              "max         2.300000e+01            3.000000e+01  "
            ]
          },
          "metadata": {
            "tags": []
          }
        },
        {
          "output_type": "stream",
          "text": [
            "products_df: (49688, 4)\n"
          ],
          "name": "stdout"
        },
        {
          "output_type": "display_data",
          "data": {
            "text/html": [
              "<div>\n",
              "<style scoped>\n",
              "    .dataframe tbody tr th:only-of-type {\n",
              "        vertical-align: middle;\n",
              "    }\n",
              "\n",
              "    .dataframe tbody tr th {\n",
              "        vertical-align: top;\n",
              "    }\n",
              "\n",
              "    .dataframe thead th {\n",
              "        text-align: right;\n",
              "    }\n",
              "</style>\n",
              "<table border=\"1\" class=\"dataframe\">\n",
              "  <thead>\n",
              "    <tr style=\"text-align: right;\">\n",
              "      <th></th>\n",
              "      <th>product_id</th>\n",
              "      <th>product_name</th>\n",
              "      <th>aisle_id</th>\n",
              "      <th>department_id</th>\n",
              "    </tr>\n",
              "  </thead>\n",
              "  <tbody>\n",
              "    <tr>\n",
              "      <th>0</th>\n",
              "      <td>1</td>\n",
              "      <td>Chocolate Sandwich Cookies</td>\n",
              "      <td>61</td>\n",
              "      <td>19</td>\n",
              "    </tr>\n",
              "    <tr>\n",
              "      <th>1</th>\n",
              "      <td>2</td>\n",
              "      <td>All-Seasons Salt</td>\n",
              "      <td>104</td>\n",
              "      <td>13</td>\n",
              "    </tr>\n",
              "    <tr>\n",
              "      <th>2</th>\n",
              "      <td>3</td>\n",
              "      <td>Robust Golden Unsweetened Oolong Tea</td>\n",
              "      <td>94</td>\n",
              "      <td>7</td>\n",
              "    </tr>\n",
              "    <tr>\n",
              "      <th>3</th>\n",
              "      <td>4</td>\n",
              "      <td>Smart Ones Classic Favorites Mini Rigatoni Wit...</td>\n",
              "      <td>38</td>\n",
              "      <td>1</td>\n",
              "    </tr>\n",
              "    <tr>\n",
              "      <th>4</th>\n",
              "      <td>5</td>\n",
              "      <td>Green Chile Anytime Sauce</td>\n",
              "      <td>5</td>\n",
              "      <td>13</td>\n",
              "    </tr>\n",
              "  </tbody>\n",
              "</table>\n",
              "</div>"
            ],
            "text/plain": [
              "   product_id                                       product_name  aisle_id  \\\n",
              "0           1                         Chocolate Sandwich Cookies        61   \n",
              "1           2                                   All-Seasons Salt       104   \n",
              "2           3               Robust Golden Unsweetened Oolong Tea        94   \n",
              "3           4  Smart Ones Classic Favorites Mini Rigatoni Wit...        38   \n",
              "4           5                          Green Chile Anytime Sauce         5   \n",
              "\n",
              "   department_id  \n",
              "0             19  \n",
              "1             13  \n",
              "2              7  \n",
              "3              1  \n",
              "4             13  "
            ]
          },
          "metadata": {
            "tags": []
          }
        },
        {
          "output_type": "display_data",
          "data": {
            "text/html": [
              "<div>\n",
              "<style scoped>\n",
              "    .dataframe tbody tr th:only-of-type {\n",
              "        vertical-align: middle;\n",
              "    }\n",
              "\n",
              "    .dataframe tbody tr th {\n",
              "        vertical-align: top;\n",
              "    }\n",
              "\n",
              "    .dataframe thead th {\n",
              "        text-align: right;\n",
              "    }\n",
              "</style>\n",
              "<table border=\"1\" class=\"dataframe\">\n",
              "  <thead>\n",
              "    <tr style=\"text-align: right;\">\n",
              "      <th></th>\n",
              "      <th>product_id</th>\n",
              "      <th>aisle_id</th>\n",
              "      <th>department_id</th>\n",
              "    </tr>\n",
              "  </thead>\n",
              "  <tbody>\n",
              "    <tr>\n",
              "      <th>count</th>\n",
              "      <td>49688.000000</td>\n",
              "      <td>49688.000000</td>\n",
              "      <td>49688.000000</td>\n",
              "    </tr>\n",
              "    <tr>\n",
              "      <th>mean</th>\n",
              "      <td>24844.500000</td>\n",
              "      <td>67.769582</td>\n",
              "      <td>11.728687</td>\n",
              "    </tr>\n",
              "    <tr>\n",
              "      <th>std</th>\n",
              "      <td>14343.834425</td>\n",
              "      <td>38.316162</td>\n",
              "      <td>5.850410</td>\n",
              "    </tr>\n",
              "    <tr>\n",
              "      <th>min</th>\n",
              "      <td>1.000000</td>\n",
              "      <td>1.000000</td>\n",
              "      <td>1.000000</td>\n",
              "    </tr>\n",
              "    <tr>\n",
              "      <th>25%</th>\n",
              "      <td>12422.750000</td>\n",
              "      <td>35.000000</td>\n",
              "      <td>7.000000</td>\n",
              "    </tr>\n",
              "    <tr>\n",
              "      <th>50%</th>\n",
              "      <td>24844.500000</td>\n",
              "      <td>69.000000</td>\n",
              "      <td>13.000000</td>\n",
              "    </tr>\n",
              "    <tr>\n",
              "      <th>75%</th>\n",
              "      <td>37266.250000</td>\n",
              "      <td>100.000000</td>\n",
              "      <td>17.000000</td>\n",
              "    </tr>\n",
              "    <tr>\n",
              "      <th>max</th>\n",
              "      <td>49688.000000</td>\n",
              "      <td>134.000000</td>\n",
              "      <td>21.000000</td>\n",
              "    </tr>\n",
              "  </tbody>\n",
              "</table>\n",
              "</div>"
            ],
            "text/plain": [
              "         product_id      aisle_id  department_id\n",
              "count  49688.000000  49688.000000   49688.000000\n",
              "mean   24844.500000     67.769582      11.728687\n",
              "std    14343.834425     38.316162       5.850410\n",
              "min        1.000000      1.000000       1.000000\n",
              "25%    12422.750000     35.000000       7.000000\n",
              "50%    24844.500000     69.000000      13.000000\n",
              "75%    37266.250000    100.000000      17.000000\n",
              "max    49688.000000    134.000000      21.000000"
            ]
          },
          "metadata": {
            "tags": []
          }
        },
        {
          "output_type": "stream",
          "text": [
            "aisles_df: (134, 2)\n"
          ],
          "name": "stdout"
        },
        {
          "output_type": "display_data",
          "data": {
            "text/html": [
              "<div>\n",
              "<style scoped>\n",
              "    .dataframe tbody tr th:only-of-type {\n",
              "        vertical-align: middle;\n",
              "    }\n",
              "\n",
              "    .dataframe tbody tr th {\n",
              "        vertical-align: top;\n",
              "    }\n",
              "\n",
              "    .dataframe thead th {\n",
              "        text-align: right;\n",
              "    }\n",
              "</style>\n",
              "<table border=\"1\" class=\"dataframe\">\n",
              "  <thead>\n",
              "    <tr style=\"text-align: right;\">\n",
              "      <th></th>\n",
              "      <th>aisle_id</th>\n",
              "      <th>aisle</th>\n",
              "    </tr>\n",
              "  </thead>\n",
              "  <tbody>\n",
              "    <tr>\n",
              "      <th>0</th>\n",
              "      <td>1</td>\n",
              "      <td>prepared soups salads</td>\n",
              "    </tr>\n",
              "    <tr>\n",
              "      <th>1</th>\n",
              "      <td>2</td>\n",
              "      <td>specialty cheeses</td>\n",
              "    </tr>\n",
              "    <tr>\n",
              "      <th>2</th>\n",
              "      <td>3</td>\n",
              "      <td>energy granola bars</td>\n",
              "    </tr>\n",
              "    <tr>\n",
              "      <th>3</th>\n",
              "      <td>4</td>\n",
              "      <td>instant foods</td>\n",
              "    </tr>\n",
              "    <tr>\n",
              "      <th>4</th>\n",
              "      <td>5</td>\n",
              "      <td>marinades meat preparation</td>\n",
              "    </tr>\n",
              "  </tbody>\n",
              "</table>\n",
              "</div>"
            ],
            "text/plain": [
              "   aisle_id                       aisle\n",
              "0         1       prepared soups salads\n",
              "1         2           specialty cheeses\n",
              "2         3         energy granola bars\n",
              "3         4               instant foods\n",
              "4         5  marinades meat preparation"
            ]
          },
          "metadata": {
            "tags": []
          }
        },
        {
          "output_type": "display_data",
          "data": {
            "text/html": [
              "<div>\n",
              "<style scoped>\n",
              "    .dataframe tbody tr th:only-of-type {\n",
              "        vertical-align: middle;\n",
              "    }\n",
              "\n",
              "    .dataframe tbody tr th {\n",
              "        vertical-align: top;\n",
              "    }\n",
              "\n",
              "    .dataframe thead th {\n",
              "        text-align: right;\n",
              "    }\n",
              "</style>\n",
              "<table border=\"1\" class=\"dataframe\">\n",
              "  <thead>\n",
              "    <tr style=\"text-align: right;\">\n",
              "      <th></th>\n",
              "      <th>aisle_id</th>\n",
              "    </tr>\n",
              "  </thead>\n",
              "  <tbody>\n",
              "    <tr>\n",
              "      <th>count</th>\n",
              "      <td>134.000000</td>\n",
              "    </tr>\n",
              "    <tr>\n",
              "      <th>mean</th>\n",
              "      <td>67.500000</td>\n",
              "    </tr>\n",
              "    <tr>\n",
              "      <th>std</th>\n",
              "      <td>38.826537</td>\n",
              "    </tr>\n",
              "    <tr>\n",
              "      <th>min</th>\n",
              "      <td>1.000000</td>\n",
              "    </tr>\n",
              "    <tr>\n",
              "      <th>25%</th>\n",
              "      <td>34.250000</td>\n",
              "    </tr>\n",
              "    <tr>\n",
              "      <th>50%</th>\n",
              "      <td>67.500000</td>\n",
              "    </tr>\n",
              "    <tr>\n",
              "      <th>75%</th>\n",
              "      <td>100.750000</td>\n",
              "    </tr>\n",
              "    <tr>\n",
              "      <th>max</th>\n",
              "      <td>134.000000</td>\n",
              "    </tr>\n",
              "  </tbody>\n",
              "</table>\n",
              "</div>"
            ],
            "text/plain": [
              "         aisle_id\n",
              "count  134.000000\n",
              "mean    67.500000\n",
              "std     38.826537\n",
              "min      1.000000\n",
              "25%     34.250000\n",
              "50%     67.500000\n",
              "75%    100.750000\n",
              "max    134.000000"
            ]
          },
          "metadata": {
            "tags": []
          }
        },
        {
          "output_type": "stream",
          "text": [
            "departments_df: (21, 2)\n"
          ],
          "name": "stdout"
        },
        {
          "output_type": "display_data",
          "data": {
            "text/html": [
              "<div>\n",
              "<style scoped>\n",
              "    .dataframe tbody tr th:only-of-type {\n",
              "        vertical-align: middle;\n",
              "    }\n",
              "\n",
              "    .dataframe tbody tr th {\n",
              "        vertical-align: top;\n",
              "    }\n",
              "\n",
              "    .dataframe thead th {\n",
              "        text-align: right;\n",
              "    }\n",
              "</style>\n",
              "<table border=\"1\" class=\"dataframe\">\n",
              "  <thead>\n",
              "    <tr style=\"text-align: right;\">\n",
              "      <th></th>\n",
              "      <th>department_id</th>\n",
              "      <th>department</th>\n",
              "    </tr>\n",
              "  </thead>\n",
              "  <tbody>\n",
              "    <tr>\n",
              "      <th>0</th>\n",
              "      <td>1</td>\n",
              "      <td>frozen</td>\n",
              "    </tr>\n",
              "    <tr>\n",
              "      <th>1</th>\n",
              "      <td>2</td>\n",
              "      <td>other</td>\n",
              "    </tr>\n",
              "    <tr>\n",
              "      <th>2</th>\n",
              "      <td>3</td>\n",
              "      <td>bakery</td>\n",
              "    </tr>\n",
              "    <tr>\n",
              "      <th>3</th>\n",
              "      <td>4</td>\n",
              "      <td>produce</td>\n",
              "    </tr>\n",
              "    <tr>\n",
              "      <th>4</th>\n",
              "      <td>5</td>\n",
              "      <td>alcohol</td>\n",
              "    </tr>\n",
              "  </tbody>\n",
              "</table>\n",
              "</div>"
            ],
            "text/plain": [
              "   department_id department\n",
              "0              1     frozen\n",
              "1              2      other\n",
              "2              3     bakery\n",
              "3              4    produce\n",
              "4              5    alcohol"
            ]
          },
          "metadata": {
            "tags": []
          }
        },
        {
          "output_type": "display_data",
          "data": {
            "text/html": [
              "<div>\n",
              "<style scoped>\n",
              "    .dataframe tbody tr th:only-of-type {\n",
              "        vertical-align: middle;\n",
              "    }\n",
              "\n",
              "    .dataframe tbody tr th {\n",
              "        vertical-align: top;\n",
              "    }\n",
              "\n",
              "    .dataframe thead th {\n",
              "        text-align: right;\n",
              "    }\n",
              "</style>\n",
              "<table border=\"1\" class=\"dataframe\">\n",
              "  <thead>\n",
              "    <tr style=\"text-align: right;\">\n",
              "      <th></th>\n",
              "      <th>department_id</th>\n",
              "    </tr>\n",
              "  </thead>\n",
              "  <tbody>\n",
              "    <tr>\n",
              "      <th>count</th>\n",
              "      <td>21.000000</td>\n",
              "    </tr>\n",
              "    <tr>\n",
              "      <th>mean</th>\n",
              "      <td>11.000000</td>\n",
              "    </tr>\n",
              "    <tr>\n",
              "      <th>std</th>\n",
              "      <td>6.204837</td>\n",
              "    </tr>\n",
              "    <tr>\n",
              "      <th>min</th>\n",
              "      <td>1.000000</td>\n",
              "    </tr>\n",
              "    <tr>\n",
              "      <th>25%</th>\n",
              "      <td>6.000000</td>\n",
              "    </tr>\n",
              "    <tr>\n",
              "      <th>50%</th>\n",
              "      <td>11.000000</td>\n",
              "    </tr>\n",
              "    <tr>\n",
              "      <th>75%</th>\n",
              "      <td>16.000000</td>\n",
              "    </tr>\n",
              "    <tr>\n",
              "      <th>max</th>\n",
              "      <td>21.000000</td>\n",
              "    </tr>\n",
              "  </tbody>\n",
              "</table>\n",
              "</div>"
            ],
            "text/plain": [
              "       department_id\n",
              "count      21.000000\n",
              "mean       11.000000\n",
              "std         6.204837\n",
              "min         1.000000\n",
              "25%         6.000000\n",
              "50%        11.000000\n",
              "75%        16.000000\n",
              "max        21.000000"
            ]
          },
          "metadata": {
            "tags": []
          }
        }
      ]
    },
    {
      "cell_type": "markdown",
      "metadata": {
        "id": "PMWqF5hoJ8mq",
        "colab_type": "text"
      },
      "source": [
        "##clean up the Orders dataframe and add a column to flag first orders"
      ]
    },
    {
      "cell_type": "code",
      "metadata": {
        "id": "hxI9vtthKVHs",
        "colab_type": "code",
        "outputId": "70198848-9d3b-4ec8-cef2-b16a3ec688f2",
        "colab": {
          "base_uri": "https://localhost:8080/",
          "height": 521
        }
      },
      "source": [
        "# need a column to flag first orders since days_since_prior_order is NaN\n",
        "orders_df[\"is_first_order\"] = (orders_df[\"order_number\"] == 1)\n",
        "\n",
        "# normalize days_since_prior_order as \"months_since_last_order\" - max value is 30\n",
        "# and replace NaNs with 0s (note, the df.loc command applies the mask to access)\n",
        "# the values of the dataframe\n",
        "orders_df[\"months_since_prior_order\"] = orders_df[\"days_since_prior_order\"]\n",
        "orders_df.loc[orders_df[\"is_first_order\"],\"months_since_prior_order\"] = 0 \n",
        "orders_df[\"months_since_prior_order\"] = orders_df[\"months_since_prior_order\"]/30.0\n",
        "\n",
        "# normalize order_number as order_sequence - max value is 100\n",
        "orders_df[\"order_sequence\"] = orders_df[\"order_number\"]/100.0\n",
        "\n",
        "# check to make sure the orders_df looks sensible\n",
        "print(\"orders_df:\", orders_df.shape)\n",
        "display(orders_df.head())\n",
        "display(orders_df.describe())\n",
        "    \n",
        "# # create a copy of the orders_df and sort it for processing\n",
        "# cp_orders_df = pd.DataFrame()\n",
        "# cp_orders_df = orders_df.copy()\n",
        "# cp_orders_df.sort_values(by=['user_id', 'order_number'])\n",
        "# #cp_orders_df.set_index(\"user_id\", inplace=True) # we'll be indexing by user\n",
        "\n",
        "# # dataframe for new columns\n",
        "# new_orders_df = pd.DataFrame(columns=['user_ids','years_since_first_order','dow','did_this_user_order'])\n",
        "\n",
        "# # now, build columns for user, dow, did_this_user_order, time\n",
        "# for user in cp_orders_df['user_id'].unique():\n",
        "#   # set up values for this user, 1 for each day of the year\n",
        "#   user_ids[0:364] = user                 # categorical - this user\n",
        "#   dow[0:364] = 0                         # categoryical - 0..6, the day of week\n",
        "#   did_this_user_order[0:364] = False     # T/F - did user order this day?\n",
        "#   last_order_day = 0                      # counter - reset to 0 for each user\n",
        "#   for i in range(364):\n",
        "#     years_since_first_order[i] = i/364.0  # scalar - 0..1; max of 1y per user \n",
        "#   #months_since_last_order[0:364] = 0.0   # scaler - 0..1; max of 30d b/t orders\n",
        "  \n",
        "#   # the orders for this user\n",
        "#   this_users_sorted_orders_df = cp_orders_df.loc[cp_orders_df['user_id'] == user,\n",
        "#                                                 ['order_number'],\n",
        "#                                                 ['days_since_prior_order']].sort_values(by=['order_number'])\n",
        "  \n",
        "#   # then, fill out the dow with (1st dow + elapsed) MOD 7 (assuming we got the sort right)\n",
        "#   assert this_users_sorted_orders_df['days_since_prior_order'][0] == \"NaN\"\n",
        "#   for i in range(364):\n",
        "#     dow[i] = (this_users_sorted_orders_df['order_dow'][0] + i) % 7\n",
        "  \n",
        "#   did_this_user_order[0] = True     # every user ordered on their 0th day\n",
        "#   for order in range(1,this_users_sorted_orders_df['order_number'].len()-1):\n",
        "#     # What's the next day the user ordered?\n",
        "#     last_order_day += this_users_sorted_orders_df['days_since_prior_order'][order]\n",
        "#     did_this_user_order[last_order_day] = True     # record that order\n",
        "    \n",
        "#   # now, dow[], did_this_user_order[], user_ids[], years_since_last_order[] are all set\n",
        "#   # concat them to a new dataframe\n",
        "#   new_orders_df = pd.concat(new_orders_df, pd.DataFrame(user_ids, years_since_first_order, dow, did_this_user_order))\n",
        "  \n",
        "# # check to make sure they look sensible\n",
        "# print(\"this_users_sorted_orders_df:\", this_users_sorted_orders_df.shape)\n",
        "# display(this_users_sorted_orders_df.head())\n",
        "# display(this_users_sorted_orders_df.describe())\n",
        "  \n",
        "# print(\"new_orders_df:\", new_orders_df.shape)\n",
        "# display(new_orders_df.head())\n",
        "# display(new_orders_df.describe())\n",
        "\n",
        "\n"
      ],
      "execution_count": 8,
      "outputs": [
        {
          "output_type": "stream",
          "text": [
            "orders_df: (3421083, 10)\n"
          ],
          "name": "stdout"
        },
        {
          "output_type": "display_data",
          "data": {
            "text/html": [
              "<div>\n",
              "<style scoped>\n",
              "    .dataframe tbody tr th:only-of-type {\n",
              "        vertical-align: middle;\n",
              "    }\n",
              "\n",
              "    .dataframe tbody tr th {\n",
              "        vertical-align: top;\n",
              "    }\n",
              "\n",
              "    .dataframe thead th {\n",
              "        text-align: right;\n",
              "    }\n",
              "</style>\n",
              "<table border=\"1\" class=\"dataframe\">\n",
              "  <thead>\n",
              "    <tr style=\"text-align: right;\">\n",
              "      <th></th>\n",
              "      <th>order_id</th>\n",
              "      <th>user_id</th>\n",
              "      <th>eval_set</th>\n",
              "      <th>order_number</th>\n",
              "      <th>order_dow</th>\n",
              "      <th>order_hour_of_day</th>\n",
              "      <th>days_since_prior_order</th>\n",
              "      <th>is_first_order</th>\n",
              "      <th>months_since_prior_order</th>\n",
              "      <th>order_sequence</th>\n",
              "    </tr>\n",
              "  </thead>\n",
              "  <tbody>\n",
              "    <tr>\n",
              "      <th>0</th>\n",
              "      <td>2539329</td>\n",
              "      <td>1</td>\n",
              "      <td>prior</td>\n",
              "      <td>1</td>\n",
              "      <td>2</td>\n",
              "      <td>8</td>\n",
              "      <td>NaN</td>\n",
              "      <td>True</td>\n",
              "      <td>0.000000</td>\n",
              "      <td>0.01</td>\n",
              "    </tr>\n",
              "    <tr>\n",
              "      <th>1</th>\n",
              "      <td>2398795</td>\n",
              "      <td>1</td>\n",
              "      <td>prior</td>\n",
              "      <td>2</td>\n",
              "      <td>3</td>\n",
              "      <td>7</td>\n",
              "      <td>15.0</td>\n",
              "      <td>False</td>\n",
              "      <td>0.500000</td>\n",
              "      <td>0.02</td>\n",
              "    </tr>\n",
              "    <tr>\n",
              "      <th>2</th>\n",
              "      <td>473747</td>\n",
              "      <td>1</td>\n",
              "      <td>prior</td>\n",
              "      <td>3</td>\n",
              "      <td>3</td>\n",
              "      <td>12</td>\n",
              "      <td>21.0</td>\n",
              "      <td>False</td>\n",
              "      <td>0.700000</td>\n",
              "      <td>0.03</td>\n",
              "    </tr>\n",
              "    <tr>\n",
              "      <th>3</th>\n",
              "      <td>2254736</td>\n",
              "      <td>1</td>\n",
              "      <td>prior</td>\n",
              "      <td>4</td>\n",
              "      <td>4</td>\n",
              "      <td>7</td>\n",
              "      <td>29.0</td>\n",
              "      <td>False</td>\n",
              "      <td>0.966667</td>\n",
              "      <td>0.04</td>\n",
              "    </tr>\n",
              "    <tr>\n",
              "      <th>4</th>\n",
              "      <td>431534</td>\n",
              "      <td>1</td>\n",
              "      <td>prior</td>\n",
              "      <td>5</td>\n",
              "      <td>4</td>\n",
              "      <td>15</td>\n",
              "      <td>28.0</td>\n",
              "      <td>False</td>\n",
              "      <td>0.933333</td>\n",
              "      <td>0.05</td>\n",
              "    </tr>\n",
              "  </tbody>\n",
              "</table>\n",
              "</div>"
            ],
            "text/plain": [
              "   order_id  user_id eval_set  order_number  order_dow  order_hour_of_day  \\\n",
              "0   2539329        1    prior             1          2                  8   \n",
              "1   2398795        1    prior             2          3                  7   \n",
              "2    473747        1    prior             3          3                 12   \n",
              "3   2254736        1    prior             4          4                  7   \n",
              "4    431534        1    prior             5          4                 15   \n",
              "\n",
              "   days_since_prior_order  is_first_order  months_since_prior_order  \\\n",
              "0                     NaN            True                  0.000000   \n",
              "1                    15.0           False                  0.500000   \n",
              "2                    21.0           False                  0.700000   \n",
              "3                    29.0           False                  0.966667   \n",
              "4                    28.0           False                  0.933333   \n",
              "\n",
              "   order_sequence  \n",
              "0            0.01  \n",
              "1            0.02  \n",
              "2            0.03  \n",
              "3            0.04  \n",
              "4            0.05  "
            ]
          },
          "metadata": {
            "tags": []
          }
        },
        {
          "output_type": "display_data",
          "data": {
            "text/html": [
              "<div>\n",
              "<style scoped>\n",
              "    .dataframe tbody tr th:only-of-type {\n",
              "        vertical-align: middle;\n",
              "    }\n",
              "\n",
              "    .dataframe tbody tr th {\n",
              "        vertical-align: top;\n",
              "    }\n",
              "\n",
              "    .dataframe thead th {\n",
              "        text-align: right;\n",
              "    }\n",
              "</style>\n",
              "<table border=\"1\" class=\"dataframe\">\n",
              "  <thead>\n",
              "    <tr style=\"text-align: right;\">\n",
              "      <th></th>\n",
              "      <th>order_id</th>\n",
              "      <th>user_id</th>\n",
              "      <th>order_number</th>\n",
              "      <th>order_dow</th>\n",
              "      <th>order_hour_of_day</th>\n",
              "      <th>days_since_prior_order</th>\n",
              "      <th>months_since_prior_order</th>\n",
              "      <th>order_sequence</th>\n",
              "    </tr>\n",
              "  </thead>\n",
              "  <tbody>\n",
              "    <tr>\n",
              "      <th>count</th>\n",
              "      <td>3.421083e+06</td>\n",
              "      <td>3.421083e+06</td>\n",
              "      <td>3.421083e+06</td>\n",
              "      <td>3.421083e+06</td>\n",
              "      <td>3.421083e+06</td>\n",
              "      <td>3.214874e+06</td>\n",
              "      <td>3.421083e+06</td>\n",
              "      <td>3.421083e+06</td>\n",
              "    </tr>\n",
              "    <tr>\n",
              "      <th>mean</th>\n",
              "      <td>1.710542e+06</td>\n",
              "      <td>1.029782e+05</td>\n",
              "      <td>1.715486e+01</td>\n",
              "      <td>2.776219e+00</td>\n",
              "      <td>1.345202e+01</td>\n",
              "      <td>1.111484e+01</td>\n",
              "      <td>3.481626e-01</td>\n",
              "      <td>1.715486e-01</td>\n",
              "    </tr>\n",
              "    <tr>\n",
              "      <th>std</th>\n",
              "      <td>9.875817e+05</td>\n",
              "      <td>5.953372e+04</td>\n",
              "      <td>1.773316e+01</td>\n",
              "      <td>2.046829e+00</td>\n",
              "      <td>4.226088e+00</td>\n",
              "      <td>9.206737e+00</td>\n",
              "      <td>3.102909e-01</td>\n",
              "      <td>1.773316e-01</td>\n",
              "    </tr>\n",
              "    <tr>\n",
              "      <th>min</th>\n",
              "      <td>1.000000e+00</td>\n",
              "      <td>1.000000e+00</td>\n",
              "      <td>1.000000e+00</td>\n",
              "      <td>0.000000e+00</td>\n",
              "      <td>0.000000e+00</td>\n",
              "      <td>0.000000e+00</td>\n",
              "      <td>0.000000e+00</td>\n",
              "      <td>1.000000e-02</td>\n",
              "    </tr>\n",
              "    <tr>\n",
              "      <th>25%</th>\n",
              "      <td>8.552715e+05</td>\n",
              "      <td>5.139400e+04</td>\n",
              "      <td>5.000000e+00</td>\n",
              "      <td>1.000000e+00</td>\n",
              "      <td>1.000000e+01</td>\n",
              "      <td>4.000000e+00</td>\n",
              "      <td>1.333333e-01</td>\n",
              "      <td>5.000000e-02</td>\n",
              "    </tr>\n",
              "    <tr>\n",
              "      <th>50%</th>\n",
              "      <td>1.710542e+06</td>\n",
              "      <td>1.026890e+05</td>\n",
              "      <td>1.100000e+01</td>\n",
              "      <td>3.000000e+00</td>\n",
              "      <td>1.300000e+01</td>\n",
              "      <td>7.000000e+00</td>\n",
              "      <td>2.333333e-01</td>\n",
              "      <td>1.100000e-01</td>\n",
              "    </tr>\n",
              "    <tr>\n",
              "      <th>75%</th>\n",
              "      <td>2.565812e+06</td>\n",
              "      <td>1.543850e+05</td>\n",
              "      <td>2.300000e+01</td>\n",
              "      <td>5.000000e+00</td>\n",
              "      <td>1.600000e+01</td>\n",
              "      <td>1.500000e+01</td>\n",
              "      <td>5.000000e-01</td>\n",
              "      <td>2.300000e-01</td>\n",
              "    </tr>\n",
              "    <tr>\n",
              "      <th>max</th>\n",
              "      <td>3.421083e+06</td>\n",
              "      <td>2.062090e+05</td>\n",
              "      <td>1.000000e+02</td>\n",
              "      <td>6.000000e+00</td>\n",
              "      <td>2.300000e+01</td>\n",
              "      <td>3.000000e+01</td>\n",
              "      <td>1.000000e+00</td>\n",
              "      <td>1.000000e+00</td>\n",
              "    </tr>\n",
              "  </tbody>\n",
              "</table>\n",
              "</div>"
            ],
            "text/plain": [
              "           order_id       user_id  order_number     order_dow  \\\n",
              "count  3.421083e+06  3.421083e+06  3.421083e+06  3.421083e+06   \n",
              "mean   1.710542e+06  1.029782e+05  1.715486e+01  2.776219e+00   \n",
              "std    9.875817e+05  5.953372e+04  1.773316e+01  2.046829e+00   \n",
              "min    1.000000e+00  1.000000e+00  1.000000e+00  0.000000e+00   \n",
              "25%    8.552715e+05  5.139400e+04  5.000000e+00  1.000000e+00   \n",
              "50%    1.710542e+06  1.026890e+05  1.100000e+01  3.000000e+00   \n",
              "75%    2.565812e+06  1.543850e+05  2.300000e+01  5.000000e+00   \n",
              "max    3.421083e+06  2.062090e+05  1.000000e+02  6.000000e+00   \n",
              "\n",
              "       order_hour_of_day  days_since_prior_order  months_since_prior_order  \\\n",
              "count       3.421083e+06            3.214874e+06              3.421083e+06   \n",
              "mean        1.345202e+01            1.111484e+01              3.481626e-01   \n",
              "std         4.226088e+00            9.206737e+00              3.102909e-01   \n",
              "min         0.000000e+00            0.000000e+00              0.000000e+00   \n",
              "25%         1.000000e+01            4.000000e+00              1.333333e-01   \n",
              "50%         1.300000e+01            7.000000e+00              2.333333e-01   \n",
              "75%         1.600000e+01            1.500000e+01              5.000000e-01   \n",
              "max         2.300000e+01            3.000000e+01              1.000000e+00   \n",
              "\n",
              "       order_sequence  \n",
              "count    3.421083e+06  \n",
              "mean     1.715486e-01  \n",
              "std      1.773316e-01  \n",
              "min      1.000000e-02  \n",
              "25%      5.000000e-02  \n",
              "50%      1.100000e-01  \n",
              "75%      2.300000e-01  \n",
              "max      1.000000e+00  "
            ]
          },
          "metadata": {
            "tags": []
          }
        }
      ]
    },
    {
      "cell_type": "code",
      "metadata": {
        "id": "iSW7-lBFZecS",
        "colab_type": "code",
        "outputId": "473a30c1-7640-4cee-f998-725108ae7754",
        "colab": {
          "base_uri": "https://localhost:8080/",
          "height": 153
        }
      },
      "source": [
        "print(orders_df[\"eval_set\"].value_counts())\n",
        "print(orders_df[\"eval_set\"].value_counts(normalize = True))"
      ],
      "execution_count": 9,
      "outputs": [
        {
          "output_type": "stream",
          "text": [
            "prior    3214874\n",
            "train     131209\n",
            "test       75000\n",
            "Name: eval_set, dtype: int64\n",
            "prior    0.939724\n",
            "train    0.038353\n",
            "test     0.021923\n",
            "Name: eval_set, dtype: float64\n"
          ],
          "name": "stdout"
        }
      ]
    },
    {
      "cell_type": "markdown",
      "metadata": {
        "id": "5XxYcGzTZ2bj",
        "colab_type": "text"
      },
      "source": [
        "\"Orders\" table contains ~94% prior orders, 3.8% train and 2.2% test orders."
      ]
    },
    {
      "cell_type": "code",
      "metadata": {
        "id": "1uJEhuGNcYgK",
        "colab_type": "code",
        "outputId": "e23f28cd-6b45-49b2-df58-2c7d869eea74",
        "colab": {
          "base_uri": "https://localhost:8080/",
          "height": 257
        }
      },
      "source": [
        "count = orders_df[\"eval_set\"].value_counts()\n",
        "\n",
        "# Pie chart, where the slices will be ordered and plotted counter-clockwise:\n",
        "labels = count.index\n",
        "sizes = count.values\n",
        "\n",
        "fig1, ax1 = plt.subplots()\n",
        "ax1.pie(sizes, labels=labels, autopct='%1.1f%%',\n",
        "        shadow=False, startangle=90)\n",
        "ax1.axis('equal')  # Equal aspect ratio ensures that pie is drawn as a circle.\n",
        "\n",
        "plt.show()"
      ],
      "execution_count": 10,
      "outputs": [
        {
          "output_type": "display_data",
          "data": {
            "image/png": "[encoded data removed]",
            "text/plain": [
              "<Figure size 432x288 with 1 Axes>"
            ]
          },
          "metadata": {
            "tags": []
          }
        }
      ]
    },
    {
      "cell_type": "markdown",
      "metadata": {
        "id": "zTVdypSj3T-i",
        "colab_type": "text"
      },
      "source": [
        "##Split the dataframe into train, validation, and test\n",
        "The dataset we downloaded (and cleaned up) was a single CSV file. We will split this into train, validation, and test sets."
      ]
    },
    {
      "cell_type": "code",
      "metadata": {
        "id": "ttoXroBF3nQ2",
        "colab_type": "code",
        "outputId": "51e08c9a-d7cc-4851-cd4e-c2aca046e0bf",
        "colab": {
          "base_uri": "https://localhost:8080/",
          "height": 68
        }
      },
      "source": [
        "#train, test = train_test_split(dataframe, test_size=0.2)\n",
        "#train, val = train_test_split(train, test_size=0.2)\n",
        "train = orders_df.loc[orders_df['eval_set'] == \"prior\"]\n",
        "val = orders_df.loc[orders_df['eval_set'] == \"train\"]\n",
        "test = orders_df.loc[orders_df['eval_set'] == \"test\"]\n",
        "print(len(train), 'train examples')\n",
        "print(len(val), 'validation examples')\n",
        "print(len(test), 'test examples')"
      ],
      "execution_count": 11,
      "outputs": [
        {
          "output_type": "stream",
          "text": [
            "3214874 train examples\n",
            "131209 validation examples\n",
            "75000 test examples\n"
          ],
          "name": "stdout"
        }
      ]
    },
    {
      "cell_type": "markdown",
      "metadata": {
        "id": "_fBQ-uPJktLe",
        "colab_type": "text"
      },
      "source": [
        "## Create an input pipeline using tf.data\n",
        "\n",
        "Next, we will wrap the dataframes with [tf.data](https://www.tensorflow.org/guide/datasets). This will enable us  to use feature columns as a bridge to map from the columns in the Pandas dataframe to features used to train the model. If we were working with a very large CSV file (so large that it does not fit into memory), we would use tf.data to read it from disk directly. That is not covered in this tutorial."
      ]
    },
    {
      "cell_type": "code",
      "metadata": {
        "colab_type": "code",
        "id": "NkcaMYP-MsRe",
        "colab": {}
      },
      "source": [
        "# A utility method to create a tf.data dataset from a Pandas Dataframe\n",
        "# NOTE: MAY need to be updated since it was built for a different data set (heart data)\n",
        "# assumes there is a column called \"target\" that needs to be popped off\n",
        "def df_to_dataset(dataframe, shuffle=True, batch_size=32, target_col = 'target'):\n",
        "  dataframe = dataframe.copy()\n",
        "  labels = dataframe.pop(target_col)\n",
        "  ds = tf.data.Dataset.from_tensor_slices((dict(dataframe), labels))\n",
        "  if shuffle:\n",
        "    ds = ds.shuffle(buffer_size=len(dataframe))\n",
        "  ds = ds.batch(batch_size)\n",
        "  return ds"
      ],
      "execution_count": 0,
      "outputs": []
    },
    {
      "cell_type": "code",
      "metadata": {
        "colab_type": "code",
        "id": "CXbbXkJvMy34",
        "colab": {}
      },
      "source": [
        "batch_size = 5 # A small batch sized is used for demonstration purposes\n",
        "#train_ds = df_to_dataset(orders_df, shuffle=False, batch_size=batch_size, target_col=\"days_since_prior_order\")\n",
        "train_ds = df_to_dataset(train, shuffle=False, batch_size=batch_size, target_col=\"months_since_prior_order\")\n",
        "val_ds = df_to_dataset(val, shuffle=False, batch_size=batch_size, target_col=\"months_since_prior_order\")\n",
        "test_ds = df_to_dataset(test, shuffle=False, batch_size=batch_size, target_col=\"months_since_prior_order\")"
      ],
      "execution_count": 0,
      "outputs": []
    },
    {
      "cell_type": "markdown",
      "metadata": {
        "colab_type": "text",
        "id": "qRLGSMDzM-dl"
      },
      "source": [
        "## Understand the input pipeline\n",
        "\n",
        "Now that we have created the input pipeline, let's call it to see the format of the data it returns. We have used a small batch size to keep the output readable."
      ]
    },
    {
      "cell_type": "code",
      "metadata": {
        "colab_type": "code",
        "id": "CSBo3dUVNFc9",
        "outputId": "5240a14c-6503-443d-937b-46e4bbe8cdc7",
        "colab": {
          "base_uri": "https://localhost:8080/",
          "height": 88
        }
      },
      "source": [
        "for feature_batch, label_batch in train_ds.take(1):\n",
        "  print('Every feature:', list(feature_batch.keys()))\n",
        "  print('A batch of order numbers:', feature_batch['order_sequence'])\n",
        "  print('A batch of targets:', label_batch )"
      ],
      "execution_count": 14,
      "outputs": [
        {
          "output_type": "stream",
          "text": [
            "Every feature: ['order_id', 'user_id', 'eval_set', 'order_number', 'order_dow', 'order_hour_of_day', 'days_since_prior_order', 'is_first_order', 'order_sequence']\n",
            "A batch of order numbers: tf.Tensor([0.01 0.02 0.03 0.04 0.05], shape=(5,), dtype=float64)\n",
            "A batch of targets: tf.Tensor([0.         0.5        0.7        0.96666667 0.93333333], shape=(5,), dtype=float64)\n"
          ],
          "name": "stdout"
        }
      ]
    },
    {
      "cell_type": "markdown",
      "metadata": {
        "colab_type": "text",
        "id": "OT5N6Se-NQsC"
      },
      "source": [
        "We can see that the dataset returns a dictionary of column names (from the dataframe) that map to column values from rows in the dataframe."
      ]
    },
    {
      "cell_type": "markdown",
      "metadata": {
        "id": "Dz8Ve-NhGviw",
        "colab_type": "text"
      },
      "source": [
        "##Demonstrate several types of feature columns\n",
        "TensorFlow provides many types of feature columns. In this section, we will create several types of feature columns, and demonstrate how they transform a column from the dataframe."
      ]
    },
    {
      "cell_type": "code",
      "metadata": {
        "id": "vVQYt6BCGxzi",
        "colab_type": "code",
        "colab": {}
      },
      "source": [
        "# We will use this batch to demonstrate several types of feature columns\n",
        "example_batch = next(iter(train_ds))[0]\n",
        "\n",
        "# A utility method to create a feature column\n",
        "# and to transform a batch of data\n",
        "def demo(feature_column):\n",
        "  feature_layer = layers.DenseFeatures(feature_column)\n",
        "  print(feature_layer(example_batch).numpy())"
      ],
      "execution_count": 0,
      "outputs": []
    },
    {
      "cell_type": "markdown",
      "metadata": {
        "colab_type": "text",
        "id": "Q7OEKe82N-Qb"
      },
      "source": [
        "### Numeric columns\n",
        "The output of a feature column becomes the input to the model (using the demo function defined above, we will be able to see exactly how each column from the dataframe is transformed). A [numeric column](https://www.tensorflow.org/api_docs/python/tf/feature_column/numeric_column) is the simplest type of column. It is used to represent real valued features. When using this column, your model will receive the column value from the dataframe unchanged."
      ]
    },
    {
      "cell_type": "code",
      "metadata": {
        "colab_type": "code",
        "id": "QZTZ0HnHOCxC",
        "outputId": "cc5f8922-c169-4178-e924-d21aa16cb8cf",
        "colab": {
          "base_uri": "https://localhost:8080/",
          "height": 190
        }
      },
      "source": [
        "oseq = feature_column.numeric_column(\"order_sequence\")\n",
        "demo(oseq)"
      ],
      "execution_count": 16,
      "outputs": [
        {
          "output_type": "stream",
          "text": [
            "WARNING: Logging before flag parsing goes to stderr.\n",
            "W0510 03:22:02.587384 140304909846400 deprecation.py:323] From /usr/local/lib/python3.6/dist-packages/tensorflow/python/feature_column/feature_column_v2.py:2758: to_float (from tensorflow.python.ops.math_ops) is deprecated and will be removed in a future version.\n",
            "Instructions for updating:\n",
            "Use `tf.cast` instead.\n"
          ],
          "name": "stderr"
        },
        {
          "output_type": "stream",
          "text": [
            "[[0.01]\n",
            " [0.02]\n",
            " [0.03]\n",
            " [0.04]\n",
            " [0.05]]\n"
          ],
          "name": "stdout"
        }
      ]
    },
    {
      "cell_type": "markdown",
      "metadata": {
        "id": "7309mx4c80vL",
        "colab_type": "text"
      },
      "source": [
        "## Choose which columns to use\n",
        "We have seen how to use several types of feature columns. Now we will use them to train a model. The goal of this tutorial is to show you the complete code (e.g. mechanics) needed to work with feature columns. We have selected a few columns to train our model below arbitrarily.\n"
      ]
    },
    {
      "cell_type": "code",
      "metadata": {
        "id": "CYg53_I-868T",
        "colab_type": "code",
        "colab": {}
      },
      "source": [
        "feature_columns = []\n",
        "\n",
        "# numeric cols\n",
        "for header in ['order_sequence']:\n",
        "  feature_columns.append(feature_column.numeric_column(header))\n",
        "  \n",
        "# ADD THIS BACK WHEN YOU CAN\n",
        "# indicator cols\n",
        "# first_order = feature_column.categorical_column_with_vocabulary_list(\n",
        "#       'is_first_order', ['True', 'False'])\n",
        "# first_order_one_hot = feature_column.indicator_column(first_order)\n",
        "# feature_columns.append(first_order_one_hot)\n",
        "\n",
        "# # indicator cols\n",
        "dow = feature_column.categorical_column_with_identity('order_dow', 7)\n",
        "dow_one_hot = feature_column.indicator_column(dow)\n",
        "feature_columns.append(dow_one_hot)\n",
        "\n",
        "# # embedding cols\n",
        "# # 206k shoppers, 4th root = 21, so trying an embedding of 21\n",
        "user_count = orders_df['user_id'].max()\n",
        "user = feature_column.categorical_column_with_identity('user_id', user_count+1)\n",
        "user_embedding = feature_column.embedding_column(user, dimension=21)\n",
        "feature_columns.append(user_embedding)\n",
        "\n",
        "# crossed cols (example from other notebook)\n",
        "# crossed_feature = feature_column.crossed_column([age_buckets, thal], hash_bucket_size=1000)\n",
        "# crossed_feature = feature_column.indicator_column(crossed_feature)\n",
        "# feature_columns.append(crossed_feature)"
      ],
      "execution_count": 0,
      "outputs": []
    },
    {
      "cell_type": "markdown",
      "metadata": {
        "colab_type": "text",
        "id": "M-nDp8krS_ts"
      },
      "source": [
        "### Create a feature layer\n",
        "Now that we have defined our feature columns, we will use a [DenseFeatures](https://www.tensorflow.org/versions/r2.0/api_docs/python/tf/keras/layers/DenseFeatures) layer to input them to our Keras model."
      ]
    },
    {
      "cell_type": "code",
      "metadata": {
        "colab_type": "code",
        "id": "6o-El1R2TGQP",
        "colab": {}
      },
      "source": [
        "feature_layer = tf.keras.layers.DenseFeatures(feature_columns)"
      ],
      "execution_count": 0,
      "outputs": []
    },
    {
      "cell_type": "markdown",
      "metadata": {
        "colab_type": "text",
        "id": "8cf6vKfgTH0U"
      },
      "source": [
        "Earlier, we used a small batch size to demonstrate how feature columns worked. We create a new input pipeline with a larger batch size."
      ]
    },
    {
      "cell_type": "code",
      "metadata": {
        "colab_type": "code",
        "id": "gcemszoGSse_",
        "colab": {}
      },
      "source": [
        "batch_size = 32\n",
        "train_ds = df_to_dataset(train, batch_size=batch_size, target_col=\"months_since_prior_order\")\n",
        "val_ds = df_to_dataset(val, shuffle=False, batch_size=batch_size, target_col=\"months_since_prior_order\")\n",
        "test_ds = df_to_dataset(test, shuffle=False, batch_size=batch_size, target_col=\"months_since_prior_order\")"
      ],
      "execution_count": 0,
      "outputs": []
    },
    {
      "cell_type": "markdown",
      "metadata": {
        "colab_type": "text",
        "id": "bBx4Xu0eTXWq"
      },
      "source": [
        "## Create, compile, and train the model"
      ]
    },
    {
      "cell_type": "code",
      "metadata": {
        "id": "qP3C1G6NR9BE",
        "colab_type": "code",
        "outputId": "357121f7-c37e-4086-a500-4c391fdbbceb",
        "colab": {
          "base_uri": "https://localhost:8080/",
          "height": 34
        }
      },
      "source": [
        "%tensorboard --logdir logs/fit\n"
      ],
      "execution_count": 25,
      "outputs": [
        {
          "output_type": "display_data",
          "data": {
            "text/plain": [
              "Reusing TensorBoard on port 6006 (pid 687), started 0:00:23 ago. (Use '!kill 687' to kill it.)"
            ]
          },
          "metadata": {
            "tags": []
          }
        },
        {
          "output_type": "display_data",
          "data": {
            "text/html": [
              "\n",
              "    <div id=\"root\"></div>\n",
              "    <script>\n",
              "      (function() {\n",
              "        window.TENSORBOARD_ENV = window.TENSORBOARD_ENV || {};\n",
              "        window.TENSORBOARD_ENV[\"IN_COLAB\"] = true;\n",
              "        document.querySelector(\"base\").href = \"https://localhost:6006\";\n",
              "        function fixUpTensorboard(root) {\n",
              "          const tftb = root.querySelector(\"tf-tensorboard\");\n",
              "          // Disable the fragment manipulation behavior in Colab. Not\n",
              "          // only is the behavior not useful (as the iframe's location\n",
              "          // is not visible to the user), it causes TensorBoard's usage\n",
              "          // of `window.replace` to navigate away from the page and to\n",
              "          // the `localhost:<port>` URL specified by the base URI, which\n",
              "          // in turn causes the frame to (likely) crash.\n",
              "          tftb.removeAttribute(\"use-hash\");\n",
              "        }\n",
              "        function executeAllScripts(root) {\n",
              "          // When `script` elements are inserted into the DOM by\n",
              "          // assigning to an element's `innerHTML`, the scripts are not\n",
              "          // executed. Thus, we manually re-insert these scripts so that\n",
              "          // TensorBoard can initialize itself.\n",
              "          for (const script of root.querySelectorAll(\"script\")) {\n",
              "            const newScript = document.createElement(\"script\");\n",
              "            newScript.type = script.type;\n",
              "            newScript.textContent = script.textContent;\n",
              "            root.appendChild(newScript);\n",
              "            script.remove();\n",
              "          }\n",
              "        }\n",
              "        function setHeight(root, height) {\n",
              "          // We set the height dynamically after the TensorBoard UI has\n",
              "          // been initialized. This avoids an intermediate state in\n",
              "          // which the container plus the UI become taller than the\n",
              "          // final width and cause the Colab output frame to be\n",
              "          // permanently resized, eventually leading to an empty\n",
              "          // vertical gap below the TensorBoard UI. It's not clear\n",
              "          // exactly what causes this problematic intermediate state,\n",
              "          // but setting the height late seems to fix it.\n",
              "          root.style.height = `${height}px`;\n",
              "        }\n",
              "        const root = document.getElementById(\"root\");\n",
              "        fetch(\".\")\n",
              "          .then((x) => x.text())\n",
              "          .then((html) => void (root.innerHTML = html))\n",
              "          .then(() => fixUpTensorboard(root))\n",
              "          .then(() => executeAllScripts(root))\n",
              "          .then(() => setHeight(root, 800));\n",
              "      })();\n",
              "    </script>\n",
              "  "
            ],
            "text/plain": [
              "<IPython.core.display.HTML object>"
            ]
          },
          "metadata": {
            "tags": []
          }
        }
      ]
    },
    {
      "cell_type": "code",
      "metadata": {
        "id": "L2rsx-592WkB",
        "colab_type": "code",
        "outputId": "394fd533-a876-4609-d4fa-ea7bccac0e68",
        "colab": {
          "base_uri": "https://localhost:8080/",
          "height": 54
        }
      },
      "source": [
        "print(feature_columns)"
      ],
      "execution_count": 26,
      "outputs": [
        {
          "output_type": "stream",
          "text": [
            "[NumericColumn(key='order_sequence', shape=(1,), default_value=None, dtype=tf.float32, normalizer_fn=None), IndicatorColumn(categorical_column=IdentityCategoricalColumn(key='order_dow', number_buckets=7, default_value=None)), EmbeddingColumn(categorical_column=IdentityCategoricalColumn(key='user_id', number_buckets=206210, default_value=None), dimension=21, combiner='mean', initializer=<tensorflow.python.ops.init_ops.TruncatedNormal object at 0x7f9b0bef7438>, ckpt_to_load_from=None, tensor_name_in_ckpt=None, max_norm=None, trainable=True)]\n"
          ],
          "name": "stdout"
        }
      ]
    },
    {
      "cell_type": "code",
      "metadata": {
        "colab_type": "code",
        "id": "_YJPPb3xTPeZ",
        "outputId": "a98fa3bf-6737-4928-94ef-313533d73519",
        "colab": {
          "base_uri": "https://localhost:8080/",
          "height": 231
        }
      },
      "source": [
        "model = tf.keras.Sequential([\n",
        "  feature_layer,\n",
        "  layers.Dense(64, activation='relu'),\n",
        "  layers.Dense(64, activation='relu'),\n",
        "  layers.Dense(1, activation='linear')\n",
        "])\n",
        "\n",
        "model.compile(optimizer='adam',\n",
        "              loss='mean_squared_error',\n",
        "              metrics=['mean_squared_error', 'mean_absolute_percentage_error'])\n",
        "\n",
        "# note the added tensorboard callback\n",
        "model.fit(train_ds,\n",
        "          validation_data=val_ds,\n",
        "          epochs=5,\n",
        "          callbacks=[tensorboard_callback])"
      ],
      "execution_count": 1,
      "outputs": [
        {
          "output_type": "error",
          "ename": "NameError",
          "evalue": "ignored",
          "traceback": [
            "\u001b[0;31m---------------------------------------------------------------------------\u001b[0m",
            "\u001b[0;31mNameError\u001b[0m                                 Traceback (most recent call last)",
            "\u001b[0;32m<ipython-input-1-29c3076ae2c6>\u001b[0m in \u001b[0;36m<module>\u001b[0;34m()\u001b[0m\n\u001b[0;32m----> 1\u001b[0;31m model = tf.keras.Sequential([\n\u001b[0m\u001b[1;32m      2\u001b[0m   \u001b[0mfeature_layer\u001b[0m\u001b[0;34m,\u001b[0m\u001b[0;34m\u001b[0m\u001b[0;34m\u001b[0m\u001b[0m\n\u001b[1;32m      3\u001b[0m   \u001b[0mlayers\u001b[0m\u001b[0;34m.\u001b[0m\u001b[0mDense\u001b[0m\u001b[0;34m(\u001b[0m\u001b[0;36m64\u001b[0m\u001b[0;34m,\u001b[0m \u001b[0mactivation\u001b[0m\u001b[0;34m=\u001b[0m\u001b[0;34m'relu'\u001b[0m\u001b[0;34m)\u001b[0m\u001b[0;34m,\u001b[0m\u001b[0;34m\u001b[0m\u001b[0;34m\u001b[0m\u001b[0m\n\u001b[1;32m      4\u001b[0m   \u001b[0mlayers\u001b[0m\u001b[0;34m.\u001b[0m\u001b[0mDense\u001b[0m\u001b[0;34m(\u001b[0m\u001b[0;36m64\u001b[0m\u001b[0;34m,\u001b[0m \u001b[0mactivation\u001b[0m\u001b[0;34m=\u001b[0m\u001b[0;34m'relu'\u001b[0m\u001b[0;34m)\u001b[0m\u001b[0;34m,\u001b[0m\u001b[0;34m\u001b[0m\u001b[0;34m\u001b[0m\u001b[0m\n\u001b[1;32m      5\u001b[0m   \u001b[0mlayers\u001b[0m\u001b[0;34m.\u001b[0m\u001b[0mDense\u001b[0m\u001b[0;34m(\u001b[0m\u001b[0;36m1\u001b[0m\u001b[0;34m,\u001b[0m \u001b[0mactivation\u001b[0m\u001b[0;34m=\u001b[0m\u001b[0;34m'linear'\u001b[0m\u001b[0;34m)\u001b[0m\u001b[0;34m\u001b[0m\u001b[0;34m\u001b[0m\u001b[0m\n",
            "\u001b[0;31mNameError\u001b[0m: name 'tf' is not defined"
          ]
        }
      ]
    },
    {
      "cell_type": "code",
      "metadata": {
        "colab_type": "code",
        "id": "GnFmMOW0Tcaa",
        "colab": {}
      },
      "source": [
        "loss, accuracy = model.evaluate(test_ds)\n",
        "print(\"Accuracy\", accuracy)"
      ],
      "execution_count": 0,
      "outputs": []
    },
    {
      "cell_type": "markdown",
      "metadata": {
        "colab_type": "text",
        "id": "3bdfbq20V6zu"
      },
      "source": [
        "Key point: You will typically see best results with deep learning with much larger and more complex datasets. When working with a small dataset like this one, we recommend using a decision tree or random forest as a strong baseline. The goal of this tutorial is not to train an accurate model, but to demonstrate the mechanics of working with structured data, so you have code to use as a starting point when working with your own datasets in the future."
      ]
    },
    {
      "cell_type": "markdown",
      "metadata": {
        "colab_type": "text",
        "id": "SotnhVWuHQCw"
      },
      "source": [
        "## Next steps\n",
        "The best way to learn more about classifying structured data is to try it yourself. We suggest finding another dataset to work with, and training a model to classify it using code similar to the above. To improve accuracy, think carefully about which features to include in your model, and how they should be represented."
      ]
    },
    {
      "cell_type": "markdown",
      "metadata": {
        "id": "tJhzSMTvJSqN",
        "colab_type": "text"
      },
      "source": [
        "\n",
        "\n",
        "---\n",
        "\n"
      ]
    },
    {
      "cell_type": "markdown",
      "metadata": {
        "id": "WAShLmuylskL",
        "colab_type": "text"
      },
      "source": [
        "##Let's try to do some one-hot encoding of the orders-products"
      ]
    },
    {
      "cell_type": "code",
      "metadata": {
        "id": "ZwZfA5fu2ju6",
        "colab_type": "code",
        "colab": {}
      },
      "source": [
        "# what version is tensorflow?\n",
        "print(tf.__version__)\n",
        "!pip install tensorflow as tf\n",
        "print(tf.__version__)\n",
        "\n",
        "# what version is featurecolumns?\n",
        "import tf.feature_columns as fc\n",
        "print(fc.__version__)\n"
      ],
      "execution_count": 0,
      "outputs": []
    },
    {
      "cell_type": "code",
      "metadata": {
        "id": "9EPgknHCqnH4",
        "colab_type": "code",
        "colab": {}
      },
      "source": [
        "# build a column of orders with sparsely encoded products per order\n",
        "sparse_order_products_df = layers.sparse_column"
      ],
      "execution_count": 0,
      "outputs": []
    },
    {
      "cell_type": "code",
      "metadata": {
        "id": "lQCUg3dJ6JfK",
        "colab_type": "code",
        "colab": {}
      },
      "source": [
        "# orders in prior, train sets\n",
        "num_orders_prior = orders_df[\"eval_set\"].value_counts()[\"prior\"]\n",
        "num_orders_train = orders_df[\"eval_set\"].value_counts()[\"train\"]\n",
        "# hack this to make it small for now - memory issues otherwise\n",
        "num_orders_prior = 20   # HACK\n",
        "num_orders_train = 10   # HACK\n",
        "\n",
        "\n",
        "# number of products --> dimensionality of 1-hot encoding\n",
        "dimensionality = products_df.shape[0]\n",
        "\n",
        "# largest basket across prior, train sets\n",
        "max_length = order_products_prior_df[\"add_to_cart_order\"].max()\n",
        "max_length = max(max_length, order_products_train_df[\"add_to_cart_order\"].max())\n",
        "\n",
        "results_prior = np.zeros((num_orders_prior, max_length, dimensionality))\n",
        "results_train = np.zeros((num_orders_train, max_length, dimensionality))\n",
        "\n",
        "print(results_prior.shape)\n",
        "print(results_train.shape)\n",
        "\n",
        "# now I need to iterate the list of orders, and products per oder\n",
        "# for i, order in enumerate(order_products_prior_df)\n",
        "# print(orders_df.isin({'eval_set': [\"prior\"]}))\n"
      ],
      "execution_count": 0,
      "outputs": []
    },
    {
      "cell_type": "markdown",
      "metadata": {
        "id": "PCXjMb0A2l-B",
        "colab_type": "text"
      },
      "source": [
        "# Word2Vec on Instacart products\n",
        "https://www.kaggle.com/omarito/word2vec-for-products-analysis-0-01-lb\n",
        "### The goal of this kernel is to try a Word2Vec model on the data of product orders\n",
        "### The orders can act as sentences and product ids can act as words, in this kernel we will see if the model will learn any useful information about the products from the order history of all users, maybe in the future this can be used as input to a classifier that recommends products.\n",
        "## This gave me a slight increase in my LB score, so it's a useful feature\n",
        "### Please upvote if you like it and let me know in the discussion if you have any remarks/ideas\n",
        "### I also further explain the kernel in a blog post: http://omarito.me/word2vec-product-recommendations/"
      ]
    },
    {
      "cell_type": "code",
      "metadata": {
        "id": "b-fvJHxK2sao",
        "colab_type": "code",
        "colab": {}
      },
      "source": [
        "import pandas as pd\n",
        "import numpy as np\n",
        "!pip install gensim\n",
        "import gensim\n",
        "from matplotlib import pyplot as plt\n",
        "from sklearn.decomposition import PCA\n",
        "\n",
        "%matplotlib inline"
      ],
      "execution_count": 0,
      "outputs": []
    },
    {
      "cell_type": "markdown",
      "metadata": {
        "id": "mEACuu693Zvg",
        "colab_type": "text"
      },
      "source": [
        "### Load the Data"
      ]
    },
    {
      "cell_type": "code",
      "metadata": {
        "id": "Ce2EtHVT3azY",
        "colab_type": "code",
        "colab": {}
      },
      "source": [
        "train_orders = pd.read_csv(\"data/order_products__train.csv\")\n",
        "prior_orders = pd.read_csv(\"data/order_products__prior.csv\")\n",
        "products = pd.read_csv(\"data/products.csv\").set_index('product_id')"
      ],
      "execution_count": 0,
      "outputs": []
    },
    {
      "cell_type": "markdown",
      "metadata": {
        "id": "rDQ4y1yq3qEn",
        "colab_type": "text"
      },
      "source": [
        "### Turn the product ID to a string\n",
        "#### This is necessary because Gensim's Word2Vec expects sentences, so we have to resort to this dirty workaround"
      ]
    },
    {
      "cell_type": "code",
      "metadata": {
        "id": "cu4V4lu43rKQ",
        "colab_type": "code",
        "colab": {}
      },
      "source": [
        "train_orders[\"product_id\"] = train_orders[\"product_id\"].astype(str)\n",
        "prior_orders[\"product_id\"] = prior_orders[\"product_id\"].astype(str)"
      ],
      "execution_count": 0,
      "outputs": []
    },
    {
      "cell_type": "markdown",
      "metadata": {
        "id": "mmQyNjx232kQ",
        "colab_type": "text"
      },
      "source": [
        "### Extract the ordered products in each order"
      ]
    },
    {
      "cell_type": "code",
      "metadata": {
        "id": "k1nigKVy8F4_",
        "colab_type": "code",
        "colab": {}
      },
      "source": [
        "# what do the training orders look like?\n",
        "# display(train_orders.head(10))"
      ],
      "execution_count": 0,
      "outputs": []
    },
    {
      "cell_type": "code",
      "metadata": {
        "id": "vYkraelz33aQ",
        "colab_type": "code",
        "colab": {}
      },
      "source": [
        "train_products = train_orders.groupby(\"order_id\").apply(lambda order: order['product_id'].tolist())\n",
        "prior_products = prior_orders.groupby(\"order_id\").apply(lambda order: order['product_id'].tolist())\n",
        "\n",
        "# what do the training products look like?\n",
        "display(train_products.head(10))"
      ],
      "execution_count": 0,
      "outputs": []
    },
    {
      "cell_type": "markdown",
      "metadata": {
        "id": "r1GVi7uj4GWh",
        "colab_type": "text"
      },
      "source": [
        "### Create the final sentences"
      ]
    },
    {
      "cell_type": "code",
      "metadata": {
        "id": "SEqXPnia4HWC",
        "colab_type": "code",
        "colab": {}
      },
      "source": [
        "sentences = prior_products.append(train_products)\n",
        "longest = np.max(sentences.apply(len))\n",
        "sentences = sentences.values\n",
        "print(longest)"
      ],
      "execution_count": 0,
      "outputs": []
    },
    {
      "cell_type": "markdown",
      "metadata": {
        "id": "JNBv4H4I4WTR",
        "colab_type": "text"
      },
      "source": [
        "### Train Word2Vec model\n",
        "#### I have modified the window size to be equal to the longest order in our dataset. I've explained why in a blog post that is further explaining this kernel in details\n",
        "http://omarito.me/word2vec-product-recommendations/\n",
        "\n",
        "--> Ben to do: add tensorboard visualizations"
      ]
    },
    {
      "cell_type": "code",
      "metadata": {
        "id": "NUcVUIEj4Xd5",
        "colab_type": "code",
        "colab": {}
      },
      "source": [
        "model = gensim.models.Word2Vec(sentences, size=100, window=longest, min_count=2, workers=4)"
      ],
      "execution_count": 0,
      "outputs": []
    },
    {
      "cell_type": "markdown",
      "metadata": {
        "id": "VLp1uaz77fil",
        "colab_type": "text"
      },
      "source": [
        "### Organize data for visualization"
      ]
    },
    {
      "cell_type": "code",
      "metadata": {
        "id": "PuNTLfJH4hMo",
        "colab_type": "code",
        "colab": {}
      },
      "source": [
        "vocab = list(model.wv.vocab.keys())"
      ],
      "execution_count": 0,
      "outputs": []
    },
    {
      "cell_type": "markdown",
      "metadata": {
        "id": "ZJorg7tO4jqw",
        "colab_type": "text"
      },
      "source": [
        "### PCA transform the vectors into 2d"
      ]
    },
    {
      "cell_type": "code",
      "metadata": {
        "id": "wQgQNEih4kda",
        "colab_type": "code",
        "colab": {}
      },
      "source": [
        "pca = PCA(n_components=2)\n",
        "pca.fit(model.wv.syn0)"
      ],
      "execution_count": 0,
      "outputs": []
    },
    {
      "cell_type": "markdown",
      "metadata": {
        "id": "OsZMTjLa4oTQ",
        "colab_type": "text"
      },
      "source": [
        "### Some helpers for visualization"
      ]
    },
    {
      "cell_type": "code",
      "metadata": {
        "id": "V1YTEoeH4pJQ",
        "colab_type": "code",
        "colab": {}
      },
      "source": [
        "def get_batch(vocab, model, n_batches=3):\n",
        "    output = list()\n",
        "    for i in range(0, n_batches):\n",
        "        rand_int = np.random.randint(len(vocab), size=1)[0]\n",
        "        suggestions = model.most_similar(positive=[vocab[rand_int]], topn=5)\n",
        "        suggest = list()\n",
        "        for i in suggestions:\n",
        "            suggest.append(i[0])\n",
        "        output += suggest\n",
        "        output.append(vocab[rand_int])\n",
        "    return output\n",
        "\n",
        "def plot_with_labels(low_dim_embs, labels, filename='tsne.png'):\n",
        "    \"\"\"From Tensorflow's tutorial.\"\"\"\n",
        "    assert low_dim_embs.shape[0] >= len(labels), \"More labels than embeddings\"\n",
        "    plt.figure(figsize=(18, 18))  #in inches\n",
        "    for i, label in enumerate(labels):\n",
        "        x, y = low_dim_embs[i,:]\n",
        "        plt.scatter(x, y)\n",
        "        plt.annotate(label,\n",
        "                     xy=(x, y),\n",
        "                     xytext=(5, 2),\n",
        "                     textcoords='offset points',\n",
        "                     ha='right',\n",
        "                     va='bottom')\n",
        "#     plt.savefig(filename)\n",
        "    plt.show()"
      ],
      "execution_count": 0,
      "outputs": []
    },
    {
      "cell_type": "markdown",
      "metadata": {
        "id": "FpOQgUFN4sRo",
        "colab_type": "text"
      },
      "source": [
        "### Visualize a random sample"
      ]
    },
    {
      "cell_type": "code",
      "metadata": {
        "id": "JYrwEkVM4uSb",
        "colab_type": "code",
        "colab": {}
      },
      "source": [
        "embeds = []\n",
        "labels = []\n",
        "for item in get_batch(vocab, model, n_batches=3):\n",
        "    embeds.append(model[item])\n",
        "    labels.append(products.loc[int(item)]['product_name'])\n",
        "embeds = np.array(embeds)\n",
        "embeds = pca.fit_transform(embeds)\n",
        "plot_with_labels(embeds, labels)\n"
      ],
      "execution_count": 0,
      "outputs": []
    },
    {
      "cell_type": "markdown",
      "metadata": {
        "id": "gPvCJzOx445Q",
        "colab_type": "text"
      },
      "source": [
        "### Save the model"
      ]
    },
    {
      "cell_type": "code",
      "metadata": {
        "id": "SoFf-ppu4-qf",
        "colab_type": "code",
        "colab": {}
      },
      "source": [
        "model.save(\"product2vec.model\")"
      ],
      "execution_count": 0,
      "outputs": []
    },
    {
      "cell_type": "markdown",
      "metadata": {
        "id": "b6gC79qzstH3",
        "colab_type": "text"
      },
      "source": [
        "# ToDo\n",
        "\n",
        "\n",
        "*   Calculate F1 Score: https://www.kaggle.com/hongweizhang/how-to-calculate-f1-score\n",
        "*   Some interesting charting: https://www.kaggle.com/shwong/the-instacart-chart\n",
        "*   Connect to Facets: https://github.com/PAIR-code/facets, https://pair-code.github.io/facets/\n",
        "*   Basic data visualization: https://www.kaggle.com/banivyom/data-visualization/code\n",
        "*   Interesting features in BigQuery (including getting the data imported there): https://www.kaggle.com/tkm2261/my-15th-solution-features-mainly-using-bigquery\n",
        "*   More data viz: https://www.kaggle.com/frednavruzov/instacart-exploratory-data-analysis/code\n",
        "*   simple data viz: https://www.kaggle.com/serigne/instacart-simple-data-exploration/code\n",
        "*   Exploratory Data Analysis and Word2Vec for similar products: https://www.kaggle.com/ipsitp/eda-tie-outs-and-finding-similar-products/code\n",
        "*   Matplotlib documentation: https://matplotlib.org/index.html\n",
        "*   List item\n",
        "\n",
        "\n",
        "\n",
        "\n",
        "\n",
        "\n",
        "\n",
        "\n",
        "\n",
        "\n",
        "\n",
        "\n",
        "\n",
        "\n"
      ]
    }
  ]
}